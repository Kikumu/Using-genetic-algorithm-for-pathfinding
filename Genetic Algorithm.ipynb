{
 "cells": [
  {
   "cell_type": "code",
   "execution_count": 1,
   "metadata": {},
   "outputs": [],
   "source": [
    "import random \n",
    "import numpy as np\n",
    "import pandas as pd\n",
    "import math"
   ]
  },
  {
   "cell_type": "code",
   "execution_count": 2,
   "metadata": {},
   "outputs": [],
   "source": [
    "links = pd.read_csv('Links.csv')\n",
    "nodes = pd.read_csv('Places.csv')"
   ]
  },
  {
   "cell_type": "code",
   "execution_count": 3,
   "metadata": {},
   "outputs": [
    {
     "data": {
      "text/html": [
       "<div>\n",
       "<style scoped>\n",
       "    .dataframe tbody tr th:only-of-type {\n",
       "        vertical-align: middle;\n",
       "    }\n",
       "\n",
       "    .dataframe tbody tr th {\n",
       "        vertical-align: top;\n",
       "    }\n",
       "\n",
       "    .dataframe thead th {\n",
       "        text-align: right;\n",
       "    }\n",
       "</style>\n",
       "<table border=\"1\" class=\"dataframe\">\n",
       "  <thead>\n",
       "    <tr style=\"text-align: right;\">\n",
       "      <th></th>\n",
       "      <th>Place id(Pont A)</th>\n",
       "      <th>Place id(Point B)</th>\n",
       "      <th>Means of Transport</th>\n",
       "    </tr>\n",
       "  </thead>\n",
       "  <tbody>\n",
       "    <tr>\n",
       "      <th>0</th>\n",
       "      <td>8441694</td>\n",
       "      <td>9061761</td>\n",
       "      <td>Bus</td>\n",
       "    </tr>\n",
       "    <tr>\n",
       "      <th>1</th>\n",
       "      <td>8441694</td>\n",
       "      <td>10381699</td>\n",
       "      <td>Car</td>\n",
       "    </tr>\n",
       "    <tr>\n",
       "      <th>2</th>\n",
       "      <td>8611522</td>\n",
       "      <td>8631524</td>\n",
       "      <td>Car</td>\n",
       "    </tr>\n",
       "    <tr>\n",
       "      <th>3</th>\n",
       "      <td>8611522</td>\n",
       "      <td>11251704</td>\n",
       "      <td>Rail</td>\n",
       "    </tr>\n",
       "    <tr>\n",
       "      <th>4</th>\n",
       "      <td>8631524</td>\n",
       "      <td>9791429</td>\n",
       "      <td>Car</td>\n",
       "    </tr>\n",
       "    <tr>\n",
       "      <th>...</th>\n",
       "      <td>...</td>\n",
       "      <td>...</td>\n",
       "      <td>...</td>\n",
       "    </tr>\n",
       "    <tr>\n",
       "      <th>355</th>\n",
       "      <td>21121576</td>\n",
       "      <td>21271622</td>\n",
       "      <td>Bike</td>\n",
       "    </tr>\n",
       "    <tr>\n",
       "      <th>356</th>\n",
       "      <td>21141652</td>\n",
       "      <td>20331668</td>\n",
       "      <td>Car</td>\n",
       "    </tr>\n",
       "    <tr>\n",
       "      <th>357</th>\n",
       "      <td>21271622</td>\n",
       "      <td>21141652</td>\n",
       "      <td>Car</td>\n",
       "    </tr>\n",
       "    <tr>\n",
       "      <th>358</th>\n",
       "      <td>51889340</td>\n",
       "      <td>17191741</td>\n",
       "      <td>Ship</td>\n",
       "    </tr>\n",
       "    <tr>\n",
       "      <th>359</th>\n",
       "      <td>51889340</td>\n",
       "      <td>19151566</td>\n",
       "      <td>Ship</td>\n",
       "    </tr>\n",
       "  </tbody>\n",
       "</table>\n",
       "<p>360 rows × 3 columns</p>\n",
       "</div>"
      ],
      "text/plain": [
       "     Place id(Pont A)  Place id(Point B) Means of Transport\n",
       "0             8441694            9061761                Bus\n",
       "1             8441694           10381699                Car\n",
       "2             8611522            8631524                Car\n",
       "3             8611522           11251704               Rail\n",
       "4             8631524            9791429                Car\n",
       "..                ...                ...                ...\n",
       "355          21121576           21271622               Bike\n",
       "356          21141652           20331668                Car\n",
       "357          21271622           21141652                Car\n",
       "358          51889340           17191741               Ship\n",
       "359          51889340           19151566               Ship\n",
       "\n",
       "[360 rows x 3 columns]"
      ]
     },
     "execution_count": 3,
     "metadata": {},
     "output_type": "execute_result"
    }
   ],
   "source": [
    "links"
   ]
  },
  {
   "cell_type": "code",
   "execution_count": 4,
   "metadata": {},
   "outputs": [
    {
     "data": {
      "text/html": [
       "<div>\n",
       "<style scoped>\n",
       "    .dataframe tbody tr th:only-of-type {\n",
       "        vertical-align: middle;\n",
       "    }\n",
       "\n",
       "    .dataframe tbody tr th {\n",
       "        vertical-align: top;\n",
       "    }\n",
       "\n",
       "    .dataframe thead th {\n",
       "        text-align: right;\n",
       "    }\n",
       "</style>\n",
       "<table border=\"1\" class=\"dataframe\">\n",
       "  <thead>\n",
       "    <tr style=\"text-align: right;\">\n",
       "      <th></th>\n",
       "      <th>Name of place</th>\n",
       "      <th>Place ID</th>\n",
       "      <th>Northings Pos</th>\n",
       "      <th>Eastings Pos</th>\n",
       "    </tr>\n",
       "  </thead>\n",
       "  <tbody>\n",
       "    <tr>\n",
       "      <th>0</th>\n",
       "      <td>Whitley Bridge</td>\n",
       "      <td>8441694</td>\n",
       "      <td>53.694</td>\n",
       "      <td>-1.156</td>\n",
       "    </tr>\n",
       "    <tr>\n",
       "      <th>1</th>\n",
       "      <td>Doncaster Rail</td>\n",
       "      <td>8611522</td>\n",
       "      <td>53.522</td>\n",
       "      <td>-1.139</td>\n",
       "    </tr>\n",
       "    <tr>\n",
       "      <th>2</th>\n",
       "      <td>Doncaster Ctr</td>\n",
       "      <td>8631524</td>\n",
       "      <td>53.524</td>\n",
       "      <td>-1.137</td>\n",
       "    </tr>\n",
       "    <tr>\n",
       "      <th>3</th>\n",
       "      <td>Brayton Jct</td>\n",
       "      <td>9061761</td>\n",
       "      <td>53.761</td>\n",
       "      <td>-1.094</td>\n",
       "    </tr>\n",
       "    <tr>\n",
       "      <th>4</th>\n",
       "      <td>York Rail</td>\n",
       "      <td>9081958</td>\n",
       "      <td>53.958</td>\n",
       "      <td>-1.092</td>\n",
       "    </tr>\n",
       "    <tr>\n",
       "      <th>...</th>\n",
       "      <td>...</td>\n",
       "      <td>...</td>\n",
       "      <td>...</td>\n",
       "      <td>...</td>\n",
       "    </tr>\n",
       "    <tr>\n",
       "      <th>212</th>\n",
       "      <td>Hollym Village</td>\n",
       "      <td>20391706</td>\n",
       "      <td>53.706</td>\n",
       "      <td>0.039</td>\n",
       "    </tr>\n",
       "    <tr>\n",
       "      <th>213</th>\n",
       "      <td>Spurn Head</td>\n",
       "      <td>21121576</td>\n",
       "      <td>53.576</td>\n",
       "      <td>0.112</td>\n",
       "    </tr>\n",
       "    <tr>\n",
       "      <th>214</th>\n",
       "      <td>Easington Village</td>\n",
       "      <td>21141652</td>\n",
       "      <td>53.652</td>\n",
       "      <td>0.114</td>\n",
       "    </tr>\n",
       "    <tr>\n",
       "      <th>215</th>\n",
       "      <td>Kilnsea Village</td>\n",
       "      <td>21271622</td>\n",
       "      <td>53.622</td>\n",
       "      <td>0.127</td>\n",
       "    </tr>\n",
       "    <tr>\n",
       "      <th>216</th>\n",
       "      <td>Zeebrugge Harbour</td>\n",
       "      <td>51889340</td>\n",
       "      <td>51.340</td>\n",
       "      <td>3.189</td>\n",
       "    </tr>\n",
       "  </tbody>\n",
       "</table>\n",
       "<p>217 rows × 4 columns</p>\n",
       "</div>"
      ],
      "text/plain": [
       "         Name of place  Place ID  Northings Pos  Eastings Pos\n",
       "0       Whitley Bridge   8441694         53.694        -1.156\n",
       "1       Doncaster Rail   8611522         53.522        -1.139\n",
       "2        Doncaster Ctr   8631524         53.524        -1.137\n",
       "3          Brayton Jct   9061761         53.761        -1.094\n",
       "4            York Rail   9081958         53.958        -1.092\n",
       "..                 ...       ...            ...           ...\n",
       "212     Hollym Village  20391706         53.706         0.039\n",
       "213         Spurn Head  21121576         53.576         0.112\n",
       "214  Easington Village  21141652         53.652         0.114\n",
       "215    Kilnsea Village  21271622         53.622         0.127\n",
       "216  Zeebrugge Harbour  51889340         51.340         3.189\n",
       "\n",
       "[217 rows x 4 columns]"
      ]
     },
     "execution_count": 4,
     "metadata": {},
     "output_type": "execute_result"
    }
   ],
   "source": [
    "nodes"
   ]
  },
  {
   "cell_type": "code",
   "execution_count": 5,
   "metadata": {},
   "outputs": [
    {
     "data": {
      "text/plain": [
       "57"
      ]
     },
     "execution_count": 5,
     "metadata": {},
     "output_type": "execute_result"
    }
   ],
   "source": [
    "probable_node = random.randint(0,216)#randomly select a place\n",
    "probable_node"
   ]
  },
  {
   "cell_type": "code",
   "execution_count": 6,
   "metadata": {},
   "outputs": [
    {
     "data": {
      "text/plain": [
       "15561685"
      ]
     },
     "execution_count": 6,
     "metadata": {},
     "output_type": "execute_result"
    }
   ],
   "source": [
    "nodes.iloc[probable_node][1]"
   ]
  },
  {
   "cell_type": "code",
   "execution_count": 7,
   "metadata": {},
   "outputs": [
    {
     "data": {
      "text/plain": [
       "8631524"
      ]
     },
     "execution_count": 7,
     "metadata": {},
     "output_type": "execute_result"
    }
   ],
   "source": [
    "links.iloc[4][0] #r,c"
   ]
  },
  {
   "cell_type": "code",
   "execution_count": 8,
   "metadata": {},
   "outputs": [
    {
     "data": {
      "text/plain": [
       "8631524"
      ]
     },
     "execution_count": 8,
     "metadata": {},
     "output_type": "execute_result"
    }
   ],
   "source": [
    "nodes.iloc[2][1]#r,c"
   ]
  },
  {
   "cell_type": "code",
   "execution_count": 9,
   "metadata": {},
   "outputs": [
    {
     "data": {
      "text/plain": [
       "'Doncaster Rail'"
      ]
     },
     "execution_count": 9,
     "metadata": {},
     "output_type": "execute_result"
    }
   ],
   "source": [
    "nodes.iloc[1][0]#r,c"
   ]
  },
  {
   "cell_type": "code",
   "execution_count": 10,
   "metadata": {},
   "outputs": [],
   "source": [
    "#map_data.iloc[1][1]#r,c\n"
   ]
  },
  {
   "cell_type": "code",
   "execution_count": 11,
   "metadata": {},
   "outputs": [],
   "source": [
    "attatched_places = []\n",
    "distance_array = []\n",
    "#links\n",
    "#sqrt(((x1 - x)*(x1 - x)) + ((y1 - y) * (y1 - y)));\n",
    "for j in range(0,360):\n",
    "    isFound = False\n",
    "    for i in range(0,217):\n",
    "        #Point A\n",
    "        if links.iloc[j][0] == nodes.iloc[i][1]:\n",
    "            isFound_A = True\n",
    "            res1 = nodes.iloc[i][0]\n",
    "            #print(i,nodes.iloc[i][0])\n",
    "            #grab xy coordinates\n",
    "            pointA_X_coordinate = nodes.iloc[i][2]\n",
    "            pointA_Y_coordinate = nodes.iloc[i][3]\n",
    "        elif i == 360 and isFound_A == False:\n",
    "            print('Link A at %j not found')\n",
    "            break\n",
    "    for i in range(0,217):\n",
    "        #Point B\n",
    "        if links.iloc[j][1] == nodes.iloc[i][1]:\n",
    "            isFound_B = True\n",
    "            res2 = nodes.iloc[i][0]\n",
    "            #print(i,nodes.iloc[i][0])\n",
    "            pointB_X_coordinate = nodes.iloc[i][2]\n",
    "            pointB_Y_coordinate = nodes.iloc[i][3]\n",
    "        elif i == 360 and isFound_B == False:\n",
    "            print('Link B at %j not found')\n",
    "            break\n",
    "    distance = math.sqrt(((pointA_X_coordinate - pointB_X_coordinate)*(pointA_X_coordinate - pointB_X_coordinate)) + ((pointB_Y_coordinate - pointA_Y_coordinate) * (pointB_Y_coordinate - pointA_Y_coordinate)))\n",
    "    distance_array.append(distance)\n",
    "    #print(res1, 'to', res2 , 'distance =', distance)"
   ]
  },
  {
   "cell_type": "code",
   "execution_count": null,
   "metadata": {},
   "outputs": [],
   "source": [
    "#distance_dataframe"
   ]
  },
  {
   "cell_type": "code",
   "execution_count": null,
   "metadata": {},
   "outputs": [],
   "source": [
    "#distance_array\n",
    "distance_dataframe = pd.Series(distance_array, name = 'Distance')\n",
    "#append data to links data\n",
    "#distance_dataframe = distance_dataframe.reset_index(drop=True)\n",
    "#links = links.reset_index(drop=True)\n",
    "#map_data = pd.concat([links, distance_dataframe], axis=1)\n",
    "frames = [links, distance_dataframe]\n",
    "map_data = pd.concat([distance_dataframe,links], axis =1)\n",
    "map_data"
   ]
  },
  {
   "cell_type": "code",
   "execution_count": 16,
   "metadata": {},
   "outputs": [],
   "source": [
    "def fitness(route,map_data):\n",
    "    overallScore = 0\n",
    "    for i in range(0,len(route)):\n",
    "        for j in range(0, len(map_data)):\n",
    "            if route[i] == map_data.iloc[j][1]:\n",
    "                if i < len(route)-1:\n",
    "                    if route[i+1]==map_data.iloc[j][2]:\n",
    "                        distance = map_data.iloc[j][0]\n",
    "                        #print(distance)\n",
    "                        overallScore+=distance\n",
    "                        break\n",
    "            elif route[i] == map_data.iloc[j][2]:\n",
    "                if i < len(route)-1:\n",
    "                    if route[i+1]==map_data.iloc[j][1]:\n",
    "                        distance = map_data.iloc[j][0]\n",
    "                        #print(distance)\n",
    "                        overallScore+=distance\n",
    "                        break\n",
    "    return overallScore"
   ]
  },
  {
   "cell_type": "code",
   "execution_count": null,
   "metadata": {},
   "outputs": [],
   "source": [
    "#def canCrossover(a,b):"
   ]
  },
  {
   "cell_type": "code",
   "execution_count": 67,
   "metadata": {},
   "outputs": [],
   "source": [
    "def crossover(a, b):\n",
    "    #need 2 crossover m8\n",
    "    #of the 2, which is the shortest?\n",
    "    new_a = []\n",
    "    new_b = []\n",
    "    print('Pareant a = ', a)\n",
    "    print('Pareant b = ', b)\n",
    "    canCross = False\n",
    "    canProduceOffspring = False\n",
    "    #should not be start or end point\n",
    "    temp_a = a[1:len(a)-1]\n",
    "    temp_b = b[1:len(b)-1]\n",
    "    print('Slice to check a = ', temp_a)\n",
    "    print('Slice to check b = ', temp_b)\n",
    "    for j in range(0,len(temp_a)):\n",
    "        if temp_a[j] in temp_b:\n",
    "            canCross = True\n",
    "            gene_position_b = temp_b.index(temp_a[j])\n",
    "            gene_position_a = temp_a.index(temp_b[gene_position_b])\n",
    "            print(\"gene position at B: \", gene_position_b)\n",
    "            print(\"gene position at A: \", gene_position_a)\n",
    "            break\n",
    "    if canCross == True:\n",
    "        #possible cross points\n",
    "        possible_cross_points = 0\n",
    "        #index position of possible cross points in both a and b\n",
    "        possible_positions_a = []\n",
    "        possible_positions_b = []\n",
    "        for j in range(0,len(temp_a)):\n",
    "            if temp_a[j] in temp_b:\n",
    "                possible_cross_points+=1\n",
    "                possible_positions_b.append(temp_b.index(temp_a[j]))\n",
    "                possible_positions_a.append(temp_a.index(temp_b[gene_position_b]))\n",
    "        print('Possible cross points: ', possible_cross_points)\n",
    "        print('possible crosses at b: ', possible_positions_b)\n",
    "        print('Possible crosses at a: ', possible_positions_a)\n",
    "        #checkValidity = True\n",
    "        #while(checkValidity):\n",
    "        #just swap values at that index\n",
    "        #sooo....\n",
    "        #pick a random index position\n",
    "        \n",
    "        if len(possible_positions_a) > 1:\n",
    "            cut_pos = random.randint(0,len(possible_positions_a))\n",
    "        else:\n",
    "            cut_pos = 0\n",
    "        print('cut pos', cut_pos)\n",
    "        #cut_pos = 0\n",
    "        cut_a = temp_a[possible_positions_a[cut_pos]:len(temp_a)] #cut\n",
    "        print('cut a: ', cut_a)\n",
    "        cut_b = temp_b[possible_positions_b[cut_pos]:len(temp_b)] #cut\n",
    "        print('cut b: ', cut_b)\n",
    "        cut_a1 = temp_a[:possible_positions_a[cut_pos]]\n",
    "        print('cut a1: ', cut_a1)\n",
    "        cut_b1 = temp_b[:possible_positions_b[cut_pos]]\n",
    "        print('cut b1: ', cut_b1)\n",
    "        #swap them\n",
    "        new_a = cut_a1 + cut_b\n",
    "        new_b = cut_b1 + cut_a\n",
    "        new_a.insert(0,a[0])\n",
    "        new_b.insert(0,a[0])\n",
    "        new_a.append(a[-1])\n",
    "        new_b.append(a[-1])\n",
    "        print('new', new_a)\n",
    "        print('new', new_b)\n",
    "        #before making effort to crossover\n",
    "        if len(a) > len(b):\n",
    "            crossoverThreshold = len(b)\n",
    "        else:\n",
    "            crossoverThreshold = len(a)\n",
    "        #from the shortest, obtain half that, then use it to crossover\n",
    "        crossoverThreshold = int(0.5*crossoverThreshold)\n",
    "        print(\"Max genes to be crossed: \",crossoverThreshold )\n",
    "        #go to nth index in the longer array and cut\n",
    "        #for i in range(crossoverThreshold,)\n",
    "        #need to satisfy 2 conditions to cross, one, is there a similar 'code' and 2, does the created offspring end at desired pos?\n",
    "    return new_a,new_b,canCross"
   ]
  },
  {
   "cell_type": "code",
   "execution_count": 13,
   "metadata": {},
   "outputs": [],
   "source": [
    "def mutate(route, probability,places,links):\n",
    "    if random.random() < probability:\n",
    "        start = route[0]\n",
    "        end = route[-1]\n",
    "        route = create_random_new_route(places, links, start, end)\n",
    "    return route"
   ]
  },
  {
   "cell_type": "code",
   "execution_count": 12,
   "metadata": {},
   "outputs": [],
   "source": [
    "def isANeighbour(node_id1,node_id2,links):\n",
    "    isTrue = False\n",
    "    #links\n",
    "    for i in range(0,360):\n",
    "        if links.iloc[i][0] == node_id1:\n",
    "            if links.iloc[i][1] == node_id2:\n",
    "                isTrue = True\n",
    "                break\n",
    "        if links.iloc[i][1] == node_id1:\n",
    "            if links.iloc[i][0] == node_id2:\n",
    "                isTrue = True\n",
    "                break\n",
    "        if links.iloc[i][0] == node_id2:\n",
    "            if links.iloc[i][1] == node_id1:\n",
    "                isTrue = True\n",
    "                break\n",
    "        if links.iloc[i][1] == node_id2:\n",
    "            if links.iloc[i][0] == node_id1:\n",
    "                isTrue = True\n",
    "                break\n",
    "    return isTrue\n",
    "        "
   ]
  },
  {
   "cell_type": "code",
   "execution_count": 17,
   "metadata": {},
   "outputs": [
    {
     "data": {
      "text/plain": [
       "True"
      ]
     },
     "execution_count": 17,
     "metadata": {},
     "output_type": "execute_result"
    }
   ],
   "source": [
    "isANeighbour(9791429,10111496,links)"
   ]
  },
  {
   "cell_type": "code",
   "execution_count": 18,
   "metadata": {},
   "outputs": [],
   "source": [
    "def create_random_new_route(places_data, links, start, end):\n",
    "    #desired start, desired end, net data\n",
    "    #route has to be valid\n",
    "    #do not create a route that exceeds size of map(it is possible but this state can run infinitely so...no)\n",
    "    #soo..i need the IDs First\n",
    "    route = []\n",
    "    route.append(start)\n",
    "    counter = 0\n",
    "    traverse = True\n",
    "    while(traverse):\n",
    "        probable_node = random.randint(0,216)#randomly select a place\n",
    "        #print('test',probable_node)\n",
    "        probable_node = places_data.iloc[probable_node][1]  #grab respective node id\n",
    "        #check if valid route. if yes...append and randomly search for 'end' if not valid, keep searching\n",
    "        #print('route value', route[-1])\n",
    "        if isANeighbour(probable_node,route[-1],links) == True:\n",
    "            #print('accepted',probable_node)\n",
    "            route.append(probable_node)\n",
    "        \n",
    "        if route[-1]==end:\n",
    "            traverse = False\n",
    "        counter += 1\n",
    "    return route"
   ]
  },
  {
   "cell_type": "code",
   "execution_count": 21,
   "metadata": {},
   "outputs": [],
   "source": [
    "def create_new_generation(size, places_data, links, start, end):\n",
    "    population = []\n",
    "    for i in range(0,size):\n",
    "        population.append(create_random_new_route(places_data, links, start, end))\n",
    "        print(population[-1])\n",
    "    return population"
   ]
  },
  {
   "cell_type": "code",
   "execution_count": 22,
   "metadata": {},
   "outputs": [],
   "source": [
    "#x = create_random_new_route(nodes,links,8631524,8611522 )"
   ]
  },
  {
   "cell_type": "code",
   "execution_count": 23,
   "metadata": {},
   "outputs": [
    {
     "name": "stdout",
     "output_type": "stream",
     "text": [
      "[9791429, 12271393, 13461591, 12271393, 14521393, 16621388, 14611235, 16621388, 14611235, 16621388, 14611235, 12271393, 9791429, 10111496]\n",
      "[9791429, 10111496]\n",
      "[9791429, 10111496]\n",
      "[9791429, 8631524, 8611522, 8631524, 9791429, 8631524, 9791429, 8631524, 9791429, 10111496]\n"
     ]
    },
    {
     "data": {
      "text/plain": [
       "[[9791429,\n",
       "  12271393,\n",
       "  13461591,\n",
       "  12271393,\n",
       "  14521393,\n",
       "  16621388,\n",
       "  14611235,\n",
       "  16621388,\n",
       "  14611235,\n",
       "  16621388,\n",
       "  14611235,\n",
       "  12271393,\n",
       "  9791429,\n",
       "  10111496],\n",
       " [9791429, 10111496],\n",
       " [9791429, 10111496],\n",
       " [9791429,\n",
       "  8631524,\n",
       "  8611522,\n",
       "  8631524,\n",
       "  9791429,\n",
       "  8631524,\n",
       "  9791429,\n",
       "  8631524,\n",
       "  9791429,\n",
       "  10111496]]"
      ]
     },
     "execution_count": 23,
     "metadata": {},
     "output_type": "execute_result"
    }
   ],
   "source": [
    "new_gen = create_new_generation(4,nodes,links,9791429,10111496)\n",
    "#new_gen"
   ]
  },
  {
   "cell_type": "code",
   "execution_count": null,
   "metadata": {},
   "outputs": [],
   "source": [
    "new_gen[2]"
   ]
  },
  {
   "cell_type": "code",
   "execution_count": 68,
   "metadata": {},
   "outputs": [
    {
     "name": "stdout",
     "output_type": "stream",
     "text": [
      "Pareant a =  [9791429, 12271393, 13461591, 12271393, 14521393, 16621388, 14611235, 16621388, 14611235, 16621388, 14611235, 12271393, 9791429, 10111496]\n",
      "Pareant b =  [9791429, 8631524, 8611522, 8631524, 9791429, 8631524, 9791429, 8631524, 9791429, 10111496]\n",
      "Slice to check a =  [12271393, 13461591, 12271393, 14521393, 16621388, 14611235, 16621388, 14611235, 16621388, 14611235, 12271393, 9791429]\n",
      "Slice to check b =  [8631524, 8611522, 8631524, 9791429, 8631524, 9791429, 8631524, 9791429]\n",
      "gene position at B:  3\n",
      "gene position at A:  11\n",
      "Possible cross points:  1\n",
      "possible crosses at b:  [3]\n",
      "Possible crosses at a:  [11]\n",
      "cut pos 0\n",
      "cut a:  [9791429]\n",
      "cut b:  [9791429, 8631524, 9791429, 8631524, 9791429]\n",
      "cut a1:  [12271393, 13461591, 12271393, 14521393, 16621388, 14611235, 16621388, 14611235, 16621388, 14611235, 12271393]\n",
      "cut b1:  [8631524, 8611522, 8631524]\n",
      "new [9791429, 12271393, 13461591, 12271393, 14521393, 16621388, 14611235, 16621388, 14611235, 16621388, 14611235, 12271393, 9791429, 8631524, 9791429, 8631524, 9791429, 10111496]\n",
      "new [9791429, 8631524, 8611522, 8631524, 9791429, 10111496]\n",
      "Max genes to be crossed:  5\n"
     ]
    },
    {
     "data": {
      "text/plain": [
       "([9791429,\n",
       "  12271393,\n",
       "  13461591,\n",
       "  12271393,\n",
       "  14521393,\n",
       "  16621388,\n",
       "  14611235,\n",
       "  16621388,\n",
       "  14611235,\n",
       "  16621388,\n",
       "  14611235,\n",
       "  12271393,\n",
       "  9791429,\n",
       "  8631524,\n",
       "  9791429,\n",
       "  8631524,\n",
       "  9791429,\n",
       "  10111496],\n",
       " [9791429, 8631524, 8611522, 8631524, 9791429, 10111496],\n",
       " True)"
      ]
     },
     "execution_count": 68,
     "metadata": {},
     "output_type": "execute_result"
    }
   ],
   "source": [
    "crossover(new_gen[0],new_gen[3])"
   ]
  },
  {
   "cell_type": "code",
   "execution_count": null,
   "metadata": {},
   "outputs": [],
   "source": [
    "def main(number_of_generations):\n",
    "    return True"
   ]
  },
  {
   "cell_type": "code",
   "execution_count": null,
   "metadata": {},
   "outputs": [],
   "source": [
    "initialise(0.4,4)"
   ]
  },
  {
   "cell_type": "code",
   "execution_count": null,
   "metadata": {},
   "outputs": [],
   "source": [
    "#I need to \"write\" down the map....\n",
    "route = np.zeros(1,dtype=int)\n",
    "route"
   ]
  },
  {
   "cell_type": "code",
   "execution_count": null,
   "metadata": {},
   "outputs": [],
   "source": [
    "distance_array[-1]"
   ]
  },
  {
   "cell_type": "code",
   "execution_count": null,
   "metadata": {},
   "outputs": [],
   "source": [
    "distance_array"
   ]
  },
  {
   "cell_type": "code",
   "execution_count": null,
   "metadata": {},
   "outputs": [],
   "source": [
    "map_data"
   ]
  },
  {
   "cell_type": "code",
   "execution_count": null,
   "metadata": {},
   "outputs": [],
   "source": [
    "map_data.iloc[1][2]"
   ]
  },
  {
   "cell_type": "code",
   "execution_count": null,
   "metadata": {},
   "outputs": [],
   "source": [
    "x[0]"
   ]
  },
  {
   "cell_type": "code",
   "execution_count": null,
   "metadata": {},
   "outputs": [],
   "source": [
    "fitness(x,map_data)"
   ]
  },
  {
   "cell_type": "code",
   "execution_count": null,
   "metadata": {},
   "outputs": [],
   "source": [
    "len(x)"
   ]
  },
  {
   "cell_type": "code",
   "execution_count": null,
   "metadata": {},
   "outputs": [],
   "source": [
    "i"
   ]
  },
  {
   "cell_type": "code",
   "execution_count": null,
   "metadata": {},
   "outputs": [],
   "source": []
  }
 ],
 "metadata": {
  "kernelspec": {
   "display_name": "Python 3",
   "language": "python",
   "name": "python3"
  },
  "language_info": {
   "codemirror_mode": {
    "name": "ipython",
    "version": 3
   },
   "file_extension": ".py",
   "mimetype": "text/x-python",
   "name": "python",
   "nbconvert_exporter": "python",
   "pygments_lexer": "ipython3",
   "version": "3.7.5"
  }
 },
 "nbformat": 4,
 "nbformat_minor": 4
}
