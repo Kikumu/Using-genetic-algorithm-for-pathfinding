{
 "cells": [
  {
   "cell_type": "code",
   "execution_count": 1,
   "metadata": {},
   "outputs": [],
   "source": [
    "import random \n",
    "import numpy as np\n",
    "import pandas as pd\n",
    "import math"
   ]
  },
  {
   "cell_type": "code",
   "execution_count": 98,
   "metadata": {},
   "outputs": [],
   "source": [
    "from statistics import mean"
   ]
  },
  {
   "cell_type": "code",
   "execution_count": 2,
   "metadata": {},
   "outputs": [],
   "source": [
    "links = pd.read_csv('Links.csv')\n",
    "nodes = pd.read_csv('Places.csv')"
   ]
  },
  {
   "cell_type": "code",
   "execution_count": 3,
   "metadata": {},
   "outputs": [
    {
     "data": {
      "text/html": [
       "<div>\n",
       "<style scoped>\n",
       "    .dataframe tbody tr th:only-of-type {\n",
       "        vertical-align: middle;\n",
       "    }\n",
       "\n",
       "    .dataframe tbody tr th {\n",
       "        vertical-align: top;\n",
       "    }\n",
       "\n",
       "    .dataframe thead th {\n",
       "        text-align: right;\n",
       "    }\n",
       "</style>\n",
       "<table border=\"1\" class=\"dataframe\">\n",
       "  <thead>\n",
       "    <tr style=\"text-align: right;\">\n",
       "      <th></th>\n",
       "      <th>Place id(Pont A)</th>\n",
       "      <th>Place id(Point B)</th>\n",
       "      <th>Means of Transport</th>\n",
       "    </tr>\n",
       "  </thead>\n",
       "  <tbody>\n",
       "    <tr>\n",
       "      <th>0</th>\n",
       "      <td>8441694</td>\n",
       "      <td>9061761</td>\n",
       "      <td>Bus</td>\n",
       "    </tr>\n",
       "    <tr>\n",
       "      <th>1</th>\n",
       "      <td>8441694</td>\n",
       "      <td>10381699</td>\n",
       "      <td>Car</td>\n",
       "    </tr>\n",
       "    <tr>\n",
       "      <th>2</th>\n",
       "      <td>8611522</td>\n",
       "      <td>8631524</td>\n",
       "      <td>Car</td>\n",
       "    </tr>\n",
       "    <tr>\n",
       "      <th>3</th>\n",
       "      <td>8611522</td>\n",
       "      <td>11251704</td>\n",
       "      <td>Rail</td>\n",
       "    </tr>\n",
       "    <tr>\n",
       "      <th>4</th>\n",
       "      <td>8631524</td>\n",
       "      <td>9791429</td>\n",
       "      <td>Car</td>\n",
       "    </tr>\n",
       "    <tr>\n",
       "      <th>...</th>\n",
       "      <td>...</td>\n",
       "      <td>...</td>\n",
       "      <td>...</td>\n",
       "    </tr>\n",
       "    <tr>\n",
       "      <th>355</th>\n",
       "      <td>21121576</td>\n",
       "      <td>21271622</td>\n",
       "      <td>Bike</td>\n",
       "    </tr>\n",
       "    <tr>\n",
       "      <th>356</th>\n",
       "      <td>21141652</td>\n",
       "      <td>20331668</td>\n",
       "      <td>Car</td>\n",
       "    </tr>\n",
       "    <tr>\n",
       "      <th>357</th>\n",
       "      <td>21271622</td>\n",
       "      <td>21141652</td>\n",
       "      <td>Car</td>\n",
       "    </tr>\n",
       "    <tr>\n",
       "      <th>358</th>\n",
       "      <td>51889340</td>\n",
       "      <td>17191741</td>\n",
       "      <td>Ship</td>\n",
       "    </tr>\n",
       "    <tr>\n",
       "      <th>359</th>\n",
       "      <td>51889340</td>\n",
       "      <td>19151566</td>\n",
       "      <td>Ship</td>\n",
       "    </tr>\n",
       "  </tbody>\n",
       "</table>\n",
       "<p>360 rows × 3 columns</p>\n",
       "</div>"
      ],
      "text/plain": [
       "     Place id(Pont A)  Place id(Point B) Means of Transport\n",
       "0             8441694            9061761                Bus\n",
       "1             8441694           10381699                Car\n",
       "2             8611522            8631524                Car\n",
       "3             8611522           11251704               Rail\n",
       "4             8631524            9791429                Car\n",
       "..                ...                ...                ...\n",
       "355          21121576           21271622               Bike\n",
       "356          21141652           20331668                Car\n",
       "357          21271622           21141652                Car\n",
       "358          51889340           17191741               Ship\n",
       "359          51889340           19151566               Ship\n",
       "\n",
       "[360 rows x 3 columns]"
      ]
     },
     "execution_count": 3,
     "metadata": {},
     "output_type": "execute_result"
    }
   ],
   "source": [
    "links"
   ]
  },
  {
   "cell_type": "code",
   "execution_count": 4,
   "metadata": {},
   "outputs": [
    {
     "data": {
      "text/html": [
       "<div>\n",
       "<style scoped>\n",
       "    .dataframe tbody tr th:only-of-type {\n",
       "        vertical-align: middle;\n",
       "    }\n",
       "\n",
       "    .dataframe tbody tr th {\n",
       "        vertical-align: top;\n",
       "    }\n",
       "\n",
       "    .dataframe thead th {\n",
       "        text-align: right;\n",
       "    }\n",
       "</style>\n",
       "<table border=\"1\" class=\"dataframe\">\n",
       "  <thead>\n",
       "    <tr style=\"text-align: right;\">\n",
       "      <th></th>\n",
       "      <th>Name of place</th>\n",
       "      <th>Place ID</th>\n",
       "      <th>Northings Pos</th>\n",
       "      <th>Eastings Pos</th>\n",
       "    </tr>\n",
       "  </thead>\n",
       "  <tbody>\n",
       "    <tr>\n",
       "      <th>0</th>\n",
       "      <td>Whitley Bridge</td>\n",
       "      <td>8441694</td>\n",
       "      <td>53.694</td>\n",
       "      <td>-1.156</td>\n",
       "    </tr>\n",
       "    <tr>\n",
       "      <th>1</th>\n",
       "      <td>Doncaster Rail</td>\n",
       "      <td>8611522</td>\n",
       "      <td>53.522</td>\n",
       "      <td>-1.139</td>\n",
       "    </tr>\n",
       "    <tr>\n",
       "      <th>2</th>\n",
       "      <td>Doncaster Ctr</td>\n",
       "      <td>8631524</td>\n",
       "      <td>53.524</td>\n",
       "      <td>-1.137</td>\n",
       "    </tr>\n",
       "    <tr>\n",
       "      <th>3</th>\n",
       "      <td>Brayton Jct</td>\n",
       "      <td>9061761</td>\n",
       "      <td>53.761</td>\n",
       "      <td>-1.094</td>\n",
       "    </tr>\n",
       "    <tr>\n",
       "      <th>4</th>\n",
       "      <td>York Rail</td>\n",
       "      <td>9081958</td>\n",
       "      <td>53.958</td>\n",
       "      <td>-1.092</td>\n",
       "    </tr>\n",
       "    <tr>\n",
       "      <th>...</th>\n",
       "      <td>...</td>\n",
       "      <td>...</td>\n",
       "      <td>...</td>\n",
       "      <td>...</td>\n",
       "    </tr>\n",
       "    <tr>\n",
       "      <th>212</th>\n",
       "      <td>Hollym Village</td>\n",
       "      <td>20391706</td>\n",
       "      <td>53.706</td>\n",
       "      <td>0.039</td>\n",
       "    </tr>\n",
       "    <tr>\n",
       "      <th>213</th>\n",
       "      <td>Spurn Head</td>\n",
       "      <td>21121576</td>\n",
       "      <td>53.576</td>\n",
       "      <td>0.112</td>\n",
       "    </tr>\n",
       "    <tr>\n",
       "      <th>214</th>\n",
       "      <td>Easington Village</td>\n",
       "      <td>21141652</td>\n",
       "      <td>53.652</td>\n",
       "      <td>0.114</td>\n",
       "    </tr>\n",
       "    <tr>\n",
       "      <th>215</th>\n",
       "      <td>Kilnsea Village</td>\n",
       "      <td>21271622</td>\n",
       "      <td>53.622</td>\n",
       "      <td>0.127</td>\n",
       "    </tr>\n",
       "    <tr>\n",
       "      <th>216</th>\n",
       "      <td>Zeebrugge Harbour</td>\n",
       "      <td>51889340</td>\n",
       "      <td>51.340</td>\n",
       "      <td>3.189</td>\n",
       "    </tr>\n",
       "  </tbody>\n",
       "</table>\n",
       "<p>217 rows × 4 columns</p>\n",
       "</div>"
      ],
      "text/plain": [
       "         Name of place  Place ID  Northings Pos  Eastings Pos\n",
       "0       Whitley Bridge   8441694         53.694        -1.156\n",
       "1       Doncaster Rail   8611522         53.522        -1.139\n",
       "2        Doncaster Ctr   8631524         53.524        -1.137\n",
       "3          Brayton Jct   9061761         53.761        -1.094\n",
       "4            York Rail   9081958         53.958        -1.092\n",
       "..                 ...       ...            ...           ...\n",
       "212     Hollym Village  20391706         53.706         0.039\n",
       "213         Spurn Head  21121576         53.576         0.112\n",
       "214  Easington Village  21141652         53.652         0.114\n",
       "215    Kilnsea Village  21271622         53.622         0.127\n",
       "216  Zeebrugge Harbour  51889340         51.340         3.189\n",
       "\n",
       "[217 rows x 4 columns]"
      ]
     },
     "execution_count": 4,
     "metadata": {},
     "output_type": "execute_result"
    }
   ],
   "source": [
    "nodes"
   ]
  },
  {
   "cell_type": "code",
   "execution_count": 5,
   "metadata": {},
   "outputs": [
    {
     "data": {
      "text/plain": [
       "57"
      ]
     },
     "execution_count": 5,
     "metadata": {},
     "output_type": "execute_result"
    }
   ],
   "source": [
    "probable_node = random.randint(0,216)#randomly select a place\n",
    "probable_node"
   ]
  },
  {
   "cell_type": "code",
   "execution_count": 6,
   "metadata": {},
   "outputs": [
    {
     "data": {
      "text/plain": [
       "15561685"
      ]
     },
     "execution_count": 6,
     "metadata": {},
     "output_type": "execute_result"
    }
   ],
   "source": [
    "nodes.iloc[probable_node][1]"
   ]
  },
  {
   "cell_type": "code",
   "execution_count": 7,
   "metadata": {},
   "outputs": [
    {
     "data": {
      "text/plain": [
       "8631524"
      ]
     },
     "execution_count": 7,
     "metadata": {},
     "output_type": "execute_result"
    }
   ],
   "source": [
    "links.iloc[4][0] #r,c"
   ]
  },
  {
   "cell_type": "code",
   "execution_count": 8,
   "metadata": {},
   "outputs": [
    {
     "data": {
      "text/plain": [
       "8631524"
      ]
     },
     "execution_count": 8,
     "metadata": {},
     "output_type": "execute_result"
    }
   ],
   "source": [
    "nodes.iloc[2][1]#r,c"
   ]
  },
  {
   "cell_type": "code",
   "execution_count": 9,
   "metadata": {},
   "outputs": [
    {
     "data": {
      "text/plain": [
       "'Doncaster Rail'"
      ]
     },
     "execution_count": 9,
     "metadata": {},
     "output_type": "execute_result"
    }
   ],
   "source": [
    "nodes.iloc[1][0]#r,c"
   ]
  },
  {
   "cell_type": "code",
   "execution_count": 10,
   "metadata": {},
   "outputs": [],
   "source": [
    "#map_data.iloc[1][1]#r,c\n"
   ]
  },
  {
   "cell_type": "code",
   "execution_count": 11,
   "metadata": {},
   "outputs": [],
   "source": [
    "attatched_places = []\n",
    "distance_array = []\n",
    "#links\n",
    "#sqrt(((x1 - x)*(x1 - x)) + ((y1 - y) * (y1 - y)));\n",
    "for j in range(0,360):\n",
    "    isFound = False\n",
    "    for i in range(0,217):\n",
    "        #Point A\n",
    "        if links.iloc[j][0] == nodes.iloc[i][1]:\n",
    "            isFound_A = True\n",
    "            res1 = nodes.iloc[i][0]\n",
    "            #print(i,nodes.iloc[i][0])\n",
    "            #grab xy coordinates\n",
    "            pointA_X_coordinate = nodes.iloc[i][2]\n",
    "            pointA_Y_coordinate = nodes.iloc[i][3]\n",
    "        elif i == 360 and isFound_A == False:\n",
    "            print('Link A at %j not found')\n",
    "            break\n",
    "    for i in range(0,217):\n",
    "        #Point B\n",
    "        if links.iloc[j][1] == nodes.iloc[i][1]:\n",
    "            isFound_B = True\n",
    "            res2 = nodes.iloc[i][0]\n",
    "            #print(i,nodes.iloc[i][0])\n",
    "            pointB_X_coordinate = nodes.iloc[i][2]\n",
    "            pointB_Y_coordinate = nodes.iloc[i][3]\n",
    "        elif i == 360 and isFound_B == False:\n",
    "            print('Link B at %j not found')\n",
    "            break\n",
    "    distance = math.sqrt(((pointA_X_coordinate - pointB_X_coordinate)*(pointA_X_coordinate - pointB_X_coordinate)) + ((pointB_Y_coordinate - pointA_Y_coordinate) * (pointB_Y_coordinate - pointA_Y_coordinate)))\n",
    "    distance_array.append(distance)\n",
    "    #print(res1, 'to', res2 , 'distance =', distance)"
   ]
  },
  {
   "cell_type": "code",
   "execution_count": null,
   "metadata": {},
   "outputs": [],
   "source": [
    "#distance_dataframe"
   ]
  },
  {
   "cell_type": "code",
   "execution_count": 122,
   "metadata": {},
   "outputs": [
    {
     "data": {
      "text/html": [
       "<div>\n",
       "<style scoped>\n",
       "    .dataframe tbody tr th:only-of-type {\n",
       "        vertical-align: middle;\n",
       "    }\n",
       "\n",
       "    .dataframe tbody tr th {\n",
       "        vertical-align: top;\n",
       "    }\n",
       "\n",
       "    .dataframe thead th {\n",
       "        text-align: right;\n",
       "    }\n",
       "</style>\n",
       "<table border=\"1\" class=\"dataframe\">\n",
       "  <thead>\n",
       "    <tr style=\"text-align: right;\">\n",
       "      <th></th>\n",
       "      <th>Distance</th>\n",
       "      <th>Place id(Pont A)</th>\n",
       "      <th>Place id(Point B)</th>\n",
       "      <th>Means of Transport</th>\n",
       "    </tr>\n",
       "  </thead>\n",
       "  <tbody>\n",
       "    <tr>\n",
       "      <th>0</th>\n",
       "      <td>0.091285</td>\n",
       "      <td>8441694</td>\n",
       "      <td>9061761</td>\n",
       "      <td>Bus</td>\n",
       "    </tr>\n",
       "    <tr>\n",
       "      <th>1</th>\n",
       "      <td>0.194064</td>\n",
       "      <td>8441694</td>\n",
       "      <td>10381699</td>\n",
       "      <td>Car</td>\n",
       "    </tr>\n",
       "    <tr>\n",
       "      <th>2</th>\n",
       "      <td>0.002828</td>\n",
       "      <td>8611522</td>\n",
       "      <td>8631524</td>\n",
       "      <td>Car</td>\n",
       "    </tr>\n",
       "    <tr>\n",
       "      <th>3</th>\n",
       "      <td>0.320656</td>\n",
       "      <td>8611522</td>\n",
       "      <td>11251704</td>\n",
       "      <td>Rail</td>\n",
       "    </tr>\n",
       "    <tr>\n",
       "      <th>4</th>\n",
       "      <td>0.149937</td>\n",
       "      <td>8631524</td>\n",
       "      <td>9791429</td>\n",
       "      <td>Car</td>\n",
       "    </tr>\n",
       "    <tr>\n",
       "      <th>...</th>\n",
       "      <td>...</td>\n",
       "      <td>...</td>\n",
       "      <td>...</td>\n",
       "      <td>...</td>\n",
       "    </tr>\n",
       "    <tr>\n",
       "      <th>355</th>\n",
       "      <td>0.048384</td>\n",
       "      <td>21121576</td>\n",
       "      <td>21271622</td>\n",
       "      <td>Bike</td>\n",
       "    </tr>\n",
       "    <tr>\n",
       "      <th>356</th>\n",
       "      <td>0.082565</td>\n",
       "      <td>21141652</td>\n",
       "      <td>20331668</td>\n",
       "      <td>Car</td>\n",
       "    </tr>\n",
       "    <tr>\n",
       "      <th>357</th>\n",
       "      <td>0.032696</td>\n",
       "      <td>21271622</td>\n",
       "      <td>21141652</td>\n",
       "      <td>Car</td>\n",
       "    </tr>\n",
       "    <tr>\n",
       "      <th>358</th>\n",
       "      <td>4.219680</td>\n",
       "      <td>51889340</td>\n",
       "      <td>17191741</td>\n",
       "      <td>Ship</td>\n",
       "    </tr>\n",
       "    <tr>\n",
       "      <th>359</th>\n",
       "      <td>3.959059</td>\n",
       "      <td>51889340</td>\n",
       "      <td>19151566</td>\n",
       "      <td>Ship</td>\n",
       "    </tr>\n",
       "  </tbody>\n",
       "</table>\n",
       "<p>360 rows × 4 columns</p>\n",
       "</div>"
      ],
      "text/plain": [
       "     Distance  Place id(Pont A)  Place id(Point B) Means of Transport\n",
       "0    0.091285           8441694            9061761                Bus\n",
       "1    0.194064           8441694           10381699                Car\n",
       "2    0.002828           8611522            8631524                Car\n",
       "3    0.320656           8611522           11251704               Rail\n",
       "4    0.149937           8631524            9791429                Car\n",
       "..        ...               ...                ...                ...\n",
       "355  0.048384          21121576           21271622               Bike\n",
       "356  0.082565          21141652           20331668                Car\n",
       "357  0.032696          21271622           21141652                Car\n",
       "358  4.219680          51889340           17191741               Ship\n",
       "359  3.959059          51889340           19151566               Ship\n",
       "\n",
       "[360 rows x 4 columns]"
      ]
     },
     "execution_count": 122,
     "metadata": {},
     "output_type": "execute_result"
    }
   ],
   "source": [
    "#distance_array\n",
    "distance_dataframe = pd.Series(distance_array, name = 'Distance')\n",
    "#append data to links data\n",
    "#distance_dataframe = distance_dataframe.reset_index(drop=True)\n",
    "#links = links.reset_index(drop=True)\n",
    "#map_data = pd.concat([links, distance_dataframe], axis=1)\n",
    "frames = [links, distance_dataframe]\n",
    "map_data = pd.concat([distance_dataframe,links], axis =1)\n",
    "map_data"
   ]
  },
  {
   "cell_type": "code",
   "execution_count": 16,
   "metadata": {},
   "outputs": [],
   "source": [
    "def fitness(route,map_data):\n",
    "    overallScore = 0\n",
    "    for i in range(0,len(route)):\n",
    "        for j in range(0, len(map_data)):\n",
    "            if route[i] == map_data.iloc[j][1]:\n",
    "                if i < len(route)-1:\n",
    "                    if route[i+1]==map_data.iloc[j][2]:\n",
    "                        distance = map_data.iloc[j][0]\n",
    "                        #print(distance)\n",
    "                        overallScore+=distance\n",
    "                        break\n",
    "            elif route[i] == map_data.iloc[j][2]:\n",
    "                if i < len(route)-1:\n",
    "                    if route[i+1]==map_data.iloc[j][1]:\n",
    "                        distance = map_data.iloc[j][0]\n",
    "                        #print(distance)\n",
    "                        overallScore+=distance\n",
    "                        break\n",
    "    return overallScore"
   ]
  },
  {
   "cell_type": "code",
   "execution_count": null,
   "metadata": {},
   "outputs": [],
   "source": [
    "#def canCrossover(a,b):"
   ]
  },
  {
   "cell_type": "code",
   "execution_count": 118,
   "metadata": {},
   "outputs": [],
   "source": [
    "def crossover(a, b):\n",
    "    #need 2 crossover m8\n",
    "    #of the 2, which is the shortest?\n",
    "    new_a = []\n",
    "    new_b = []\n",
    "    print('Pareant a = ', a)\n",
    "    print('Pareant b = ', b)\n",
    "    canCross = False\n",
    "    canProduceOffspring = False\n",
    "    #should not be start or end point\n",
    "    temp_a = a[1:len(a)-1]\n",
    "    temp_b = b[1:len(b)-1]\n",
    "    print('Slice to check a = ', temp_a)\n",
    "    print('Slice to check b = ', temp_b)\n",
    "    for j in range(0,len(temp_a)):\n",
    "        if temp_a[j] in temp_b:\n",
    "            canCross = True\n",
    "            gene_position_b = temp_b.index(temp_a[j])\n",
    "            gene_position_a = temp_a.index(temp_b[gene_position_b])\n",
    "            print(\"gene position at B: \", gene_position_b)\n",
    "            print(\"gene position at A: \", gene_position_a)\n",
    "            break\n",
    "    if canCross == True:\n",
    "        #possible cross points\n",
    "        possible_cross_points = 0\n",
    "        #index position of possible cross points in both a and b\n",
    "        possible_positions_a = []\n",
    "        possible_positions_b = []\n",
    "        for j in range(0,len(temp_a)):\n",
    "            if temp_a[j] in temp_b:\n",
    "                possible_cross_points+=1\n",
    "                possible_positions_b.append(temp_b.index(temp_a[j]))\n",
    "                possible_positions_a.append(temp_a.index(temp_b[gene_position_b]))\n",
    "        print('Possible cross points: ', possible_cross_points)\n",
    "        print('possible crosses at b: ', possible_positions_b)\n",
    "        print('Possible crosses at a: ', possible_positions_a)\n",
    "        #checkValidity = True\n",
    "        #while(checkValidity):\n",
    "        #just swap values at that index\n",
    "        #sooo....\n",
    "        #pick a random index position\n",
    "        \n",
    "        if len(possible_positions_a) > 1:\n",
    "            cut_pos = random.randint(0,len(possible_positions_a))\n",
    "        else:\n",
    "            cut_pos = 0\n",
    "        print('cut pos', cut_pos)\n",
    "        #cut_pos = 0\n",
    "        cut_a = temp_a[possible_positions_a[cut_pos]:len(temp_a)] #cut\n",
    "        print('cut a: ', cut_a)\n",
    "        cut_b = temp_b[possible_positions_b[cut_pos]:len(temp_b)] #cut\n",
    "        print('cut b: ', cut_b)\n",
    "        cut_a1 = temp_a[:possible_positions_a[cut_pos]]\n",
    "        print('cut a1: ', cut_a1)\n",
    "        cut_b1 = temp_b[:possible_positions_b[cut_pos]]\n",
    "        print('cut b1: ', cut_b1)\n",
    "        #swap them\n",
    "        new_a = cut_a1 + cut_b\n",
    "        new_b = cut_b1 + cut_a\n",
    "        new_a.insert(0,a[0])\n",
    "        new_b.insert(0,a[0])\n",
    "        new_a.append(a[-1])\n",
    "        new_b.append(a[-1])\n",
    "        print('new', new_a)\n",
    "        print('new', new_b)\n",
    "        #before making effort to crossover\n",
    "        if len(a) > len(b):\n",
    "            crossoverThreshold = len(b)\n",
    "        else:\n",
    "            crossoverThreshold = len(a)\n",
    "        #from the shortest, obtain half that, then use it to crossover\n",
    "        crossoverThreshold = int(0.5*crossoverThreshold)\n",
    "        print(\"Max genes to be crossed: \",crossoverThreshold )\n",
    "        #go to nth index in the longer array and cut\n",
    "        #for i in range(crossoverThreshold,)\n",
    "        #need to satisfy 2 conditions to cross, one, is there a similar 'code' and 2, does the created offspring end at desired pos?\n",
    "    return new_a,new_b,canCross"
   ]
  },
  {
   "cell_type": "code",
   "execution_count": 117,
   "metadata": {},
   "outputs": [],
   "source": [
    "def mutate(route, probability,places,links):\n",
    "    if random.random() < probability:\n",
    "        print('Mutating...')\n",
    "        start = route[0]\n",
    "        end = route[-1]\n",
    "        route = create_random_new_route(places, links, start, end)\n",
    "    return route"
   ]
  },
  {
   "cell_type": "code",
   "execution_count": 12,
   "metadata": {},
   "outputs": [],
   "source": [
    "def isANeighbour(node_id1,node_id2,links):\n",
    "    isTrue = False\n",
    "    #links\n",
    "    for i in range(0,360):\n",
    "        if links.iloc[i][0] == node_id1:\n",
    "            if links.iloc[i][1] == node_id2:\n",
    "                isTrue = True\n",
    "                break\n",
    "        if links.iloc[i][1] == node_id1:\n",
    "            if links.iloc[i][0] == node_id2:\n",
    "                isTrue = True\n",
    "                break\n",
    "        if links.iloc[i][0] == node_id2:\n",
    "            if links.iloc[i][1] == node_id1:\n",
    "                isTrue = True\n",
    "                break\n",
    "        if links.iloc[i][1] == node_id2:\n",
    "            if links.iloc[i][0] == node_id1:\n",
    "                isTrue = True\n",
    "                break\n",
    "    return isTrue\n",
    "        "
   ]
  },
  {
   "cell_type": "code",
   "execution_count": 17,
   "metadata": {},
   "outputs": [
    {
     "data": {
      "text/plain": [
       "True"
      ]
     },
     "execution_count": 17,
     "metadata": {},
     "output_type": "execute_result"
    }
   ],
   "source": [
    "isANeighbour(9791429,10111496,links)"
   ]
  },
  {
   "cell_type": "code",
   "execution_count": 18,
   "metadata": {},
   "outputs": [],
   "source": [
    "def create_random_new_route(places_data, links, start, end):\n",
    "    #desired start, desired end, net data\n",
    "    #route has to be valid\n",
    "    #do not create a route that exceeds size of map(it is possible but this state can run infinitely so...no)\n",
    "    #soo..i need the IDs First\n",
    "    route = []\n",
    "    route.append(start)\n",
    "    counter = 0\n",
    "    traverse = True\n",
    "    while(traverse):\n",
    "        probable_node = random.randint(0,216)#randomly select a place\n",
    "        #print('test',probable_node)\n",
    "        probable_node = places_data.iloc[probable_node][1]  #grab respective node id\n",
    "        #check if valid route. if yes...append and randomly search for 'end' if not valid, keep searching\n",
    "        #print('route value', route[-1])\n",
    "        if isANeighbour(probable_node,route[-1],links) == True:\n",
    "            #print('accepted',probable_node)\n",
    "            route.append(probable_node)\n",
    "        \n",
    "        if route[-1]==end:\n",
    "            traverse = False\n",
    "        counter += 1\n",
    "    return route"
   ]
  },
  {
   "cell_type": "code",
   "execution_count": 21,
   "metadata": {},
   "outputs": [],
   "source": [
    "def create_new_generation(size, places_data, links, start, end):\n",
    "    population = []\n",
    "    for i in range(0,size):\n",
    "        population.append(create_random_new_route(places_data, links, start, end))\n",
    "        print(population[-1])\n",
    "    return population"
   ]
  },
  {
   "cell_type": "code",
   "execution_count": 22,
   "metadata": {},
   "outputs": [],
   "source": [
    "#x = create_random_new_route(nodes,links,8631524,8611522 )"
   ]
  },
  {
   "cell_type": "code",
   "execution_count": 23,
   "metadata": {},
   "outputs": [
    {
     "name": "stdout",
     "output_type": "stream",
     "text": [
      "[9791429, 12271393, 13461591, 12271393, 14521393, 16621388, 14611235, 16621388, 14611235, 16621388, 14611235, 12271393, 9791429, 10111496]\n",
      "[9791429, 10111496]\n",
      "[9791429, 10111496]\n",
      "[9791429, 8631524, 8611522, 8631524, 9791429, 8631524, 9791429, 8631524, 9791429, 10111496]\n"
     ]
    },
    {
     "data": {
      "text/plain": [
       "[[9791429,\n",
       "  12271393,\n",
       "  13461591,\n",
       "  12271393,\n",
       "  14521393,\n",
       "  16621388,\n",
       "  14611235,\n",
       "  16621388,\n",
       "  14611235,\n",
       "  16621388,\n",
       "  14611235,\n",
       "  12271393,\n",
       "  9791429,\n",
       "  10111496],\n",
       " [9791429, 10111496],\n",
       " [9791429, 10111496],\n",
       " [9791429,\n",
       "  8631524,\n",
       "  8611522,\n",
       "  8631524,\n",
       "  9791429,\n",
       "  8631524,\n",
       "  9791429,\n",
       "  8631524,\n",
       "  9791429,\n",
       "  10111496]]"
      ]
     },
     "execution_count": 23,
     "metadata": {},
     "output_type": "execute_result"
    }
   ],
   "source": [
    "new_gen = create_new_generation(4,nodes,links,9791429,10111496)\n",
    "#new_gen"
   ]
  },
  {
   "cell_type": "code",
   "execution_count": null,
   "metadata": {},
   "outputs": [],
   "source": [
    "new_gen[2]"
   ]
  },
  {
   "cell_type": "code",
   "execution_count": 92,
   "metadata": {},
   "outputs": [
    {
     "name": "stdout",
     "output_type": "stream",
     "text": [
      "Pareant a =  [9791429, 12271393, 13461591, 12271393, 14521393, 16621388, 14611235, 16621388, 14611235, 16621388, 14611235, 12271393, 9791429, 10111496]\n",
      "Pareant b =  [9791429, 10111496]\n",
      "Slice to check a =  [12271393, 13461591, 12271393, 14521393, 16621388, 14611235, 16621388, 14611235, 16621388, 14611235, 12271393, 9791429]\n",
      "Slice to check b =  []\n",
      "False\n"
     ]
    }
   ],
   "source": [
    "# i, i+1\n",
    "m,k,_ =crossover(new_gen[0],new_gen[2])\n",
    "print(_)"
   ]
  },
  {
   "cell_type": "code",
   "execution_count": null,
   "metadata": {},
   "outputs": [],
   "source": []
  },
  {
   "cell_type": "code",
   "execution_count": 95,
   "metadata": {},
   "outputs": [
    {
     "data": {
      "text/plain": [
       "217"
      ]
     },
     "execution_count": 95,
     "metadata": {},
     "output_type": "execute_result"
    }
   ],
   "source": [
    "len(nodes)"
   ]
  },
  {
   "cell_type": "code",
   "execution_count": 99,
   "metadata": {},
   "outputs": [],
   "source": [
    "#need to find a way to visualize my stuff\n",
    "#m is route, and nodes\n",
    "\n",
    "def get_x_y_plot_path(m,nodes):\n",
    "    xValues = []\n",
    "    yValues = []\n",
    "    nodes.iloc[probable_node][1]\n",
    "    for i in range(0,len(m)):\n",
    "        #from id from nodes, grab northing and easting\n",
    "        for j in range(0, len(nodes)):\n",
    "            if m[i] == nodes.iloc[j][1]:\n",
    "                xValues.append(nodes.iloc[j][2])\n",
    "                yValues.append(nodes.iloc[j][3])\n",
    "                break\n",
    "    return xValues,yValues"
   ]
  },
  {
   "cell_type": "code",
   "execution_count": 88,
   "metadata": {},
   "outputs": [],
   "source": [
    "xValues = []\n",
    "yValues = []\n",
    "nodes.iloc[probable_node][1]\n",
    "for i in range(0,len(k)):\n",
    "    #from id from nodes, grab northing and easting\n",
    "    for j in range(0, len(nodes)):\n",
    "        if k[i] == nodes.iloc[j][1]:\n",
    "            xValues.append(nodes.iloc[j][2])\n",
    "            yValues.append(nodes.iloc[j][3])\n",
    "            break"
   ]
  },
  {
   "cell_type": "code",
   "execution_count": 79,
   "metadata": {},
   "outputs": [],
   "source": [
    "import seaborn as sns"
   ]
  },
  {
   "cell_type": "code",
   "execution_count": 87,
   "metadata": {},
   "outputs": [
    {
     "data": {
      "image/png": "[encoded data removed]",
      "text/plain": [
       "<Figure size 432x288 with 1 Axes>"
      ]
     },
     "metadata": {
      "needs_background": "light"
     },
     "output_type": "display_data"
    }
   ],
   "source": [
    "data1 = {'X':xValues,'T':yValues}\n",
    "df1 = pd.DataFrame(data1)\n",
    "plt3 = sns.pointplot(x=\"T\", y=\"X\", data=df1) #blue\n"
   ]
  },
  {
   "cell_type": "code",
   "execution_count": 89,
   "metadata": {},
   "outputs": [
    {
     "data": {
      "image/png": "[encoded data removed]",
      "text/plain": [
       "<Figure size 432x288 with 1 Axes>"
      ]
     },
     "metadata": {
      "needs_background": "light"
     },
     "output_type": "display_data"
    }
   ],
   "source": [
    "data1 = {'X':xValues,'T':yValues}\n",
    "df1 = pd.DataFrame(data1)\n",
    "plt3 = sns.pointplot(x=\"T\", y=\"X\", data=df1) #blue"
   ]
  },
  {
   "cell_type": "code",
   "execution_count": 119,
   "metadata": {},
   "outputs": [],
   "source": [
    "def main(number_of_generations,initial_population_size,start,end,links,places,map_data,mutation_probability):\n",
    "    #NOTE: The bigger the population size, the longer it will take to create a starting population. Since the nature of the\n",
    "    #problem is very specific, creating a random walk in a starting generation to the desired solution may take quite a while \n",
    "    #try experimenting with a very small starting population\n",
    "    i = 0\n",
    "    #create new population\n",
    "    print('Creating starting population')\n",
    "    new_gen = create_new_generation(initial_population_size,places,links,start,end)\n",
    "    while(i < number_of_generations):\n",
    "        print('Generation = ', i)\n",
    "        population_fitness = []\n",
    "        #breed\n",
    "        #during breeding, we must make sure if they can crossover first\n",
    "        #if a specimen cannot breed with any of its mates, remove from population\n",
    "        next_gen = []\n",
    "        cannotBreed = True\n",
    "        #can breed with anyone(first come first serve on compatibility)\n",
    "        #cannot breed with itself \n",
    "        #if someone has breed with another before, they should be removed from list during next search\n",
    "        iterator_capper = len(new_gen)\n",
    "        for j in range(0,len(new_gen)):\n",
    "            if j < len(new_gen)-1:\n",
    "                gene_iterator = 0\n",
    "                while(cannotBreed):\n",
    "                    if gene_iterator < len(new_gen)-1:\n",
    "                        cross_a,cross_b,breed_status = crossover(new_gen[j],new_gen[gene_iterator+1])\n",
    "                        if breed_status == True:\n",
    "                            #print('Breeding')\n",
    "                            next_gen.append(cross_a)\n",
    "                            next_gen.append(cross_b)\n",
    "                            del new_gen[j]\n",
    "                            del new_gen[gene_iterator+1]\n",
    "                            cannotBreed = False\n",
    "                        elif breed_status == False and gene_iterator == len(iterator_capper)-1:\n",
    "                            print('expired gene')\n",
    "                            del new_gen[j]\n",
    "                            cannotBreed = False\n",
    "                    else:\n",
    "                        cannotBreed = False\n",
    "                    gene_iterator+=1\n",
    "                j+=2\n",
    "        print('new gen:', new_gen)\n",
    "        #mutate(depending on mutation probability), basically, some random child within the population is gonna mutate\n",
    "        #for better, or worse\n",
    "        #sooo...\n",
    "        for m in range(0,len(next_gen)):\n",
    "            mutate(next_gen[m], mutation_probability,places,links)  \n",
    "        #fitness measurement\n",
    "        for k in range(0,len(next_gen)):\n",
    "            population_fitness.append(fitness(next_gen[k],map_data))\n",
    "        #selectively retain and remove parts of population depending on fitness\n",
    "        average_fitness = mean(population_fitness)\n",
    "        #keep to 60\n",
    "        fitness_threshold = (average_fitness *120)/100\n",
    "        #any child below threshold is....deleted\n",
    "        to_be_trimmed = []\n",
    "        for h in range(0,len(population_fitness)):\n",
    "            if population_fitness < fitness_threshold:\n",
    "                del next_gen[h]\n",
    "        #plot random child\n",
    "        plot_x,plot_y = get_x_y_plot_path(next_gen[random.randint(0,len(next_gen)-1)],places)\n",
    "        #draw\n",
    "        data1 = {'X':plot_x,'T':plot_y}\n",
    "        df1 = pd.DataFrame(data1)\n",
    "        plt3 = sns.pointplot(x=\"T\", y=\"X\", data=df1) #blue\n",
    "        #rebuild population if less than a certain threshold\n",
    "        pop_inc = abs(len(initial_population_size) - len(next_gen))\n",
    "        print('pop diff')\n",
    "        if len(next_gen) < initial_population_size:\n",
    "            for p in range(0,len(pop_inc)):\n",
    "                print('Create new pop')\n",
    "                next_gen.append(create_random_new_route(places, links, start, end))\n",
    "            #generate new members\n",
    "        new_gen = next_gen \n",
    "        #repeat\n",
    "        i+=1"
   ]
  },
  {
   "cell_type": "code",
   "execution_count": null,
   "metadata": {
    "scrolled": false
   },
   "outputs": [
    {
     "name": "stdout",
     "output_type": "stream",
     "text": [
      "Creating starting population\n",
      "[9791429, 8631524, 9791429, 8631524, 8611522, 13491586, 8611522, 13491586, 8611522, 8631524, 10351609, 10381699, 10351609, 10381699, 8441694, 9061761, 8441694, 10381699, 8441694, 8631524, 8441694, 9061761, 8441694, 9061761, 9611790, 11321746, 12351837, 13341864, 14671957, 13341864, 14671957, 14262019, 12872098, 14202070, 14262019, 14202070, 12872098, 14202070, 12872098, 14202070, 15602006, 16842053, 15602006, 14671957, 13341864, 13991769, 14311740, 14271730, 14971722, 14271730, 14311740, 13991769, 14311740, 13991769, 13341864, 13991769, 14311740, 13991769, 14271730, 14971722, 14931717, 14211727, 14931717, 15581717, 15651723, 15581717, 16541744, 16531745, 16561743, 16421744, 16371735, 16421744, 16071745, 15991745, 16071745, 16421744, 16071745, 15991745, 16071745, 16081741, 16001737, 15971732, 16011730, 16121732, 16371735, 16561741, 16371735, 16121732, 16011730, 15941726, 15971732, 15831726, 15651723, 15831726, 15891736, 15651732, 15891736, 16001737, 16081741, 16321746, 16081741, 16321746, 16081741, 16321746, 16081741, 16001737, 15891736, 15831726, 15941726, 16011730, 15941726, 16011730, 15971732, 15941726, 15831726, 15651723, 15651732, 15611749, 15651732, 15891736, 16001737, 15971732, 16001737, 15971732, 16001737, 16081741, 16001737, 16081741, 16001737, 16081741, 16121732, 16001737, 15971732, 16011730, 16121732, 16011730, 15941726, 15831726, 15971732, 16001737, 15971732, 16011730, 15941726, 15971732, 15831726, 15651723, 15651732, 15651723, 15831726, 15971732, 16001737, 15891736, 15651732, 15891736, 16001737, 16121732, 16371735, 16121732, 16001737, 15991745, 16071745, 16051750, 16071745, 16081741, 16071745, 16051750, 16021756, 15951753, 16021756, 15951753, 16021756, 16171762, 16161770, 16131766, 16161770, 16171762, 16021756, 16051750, 16021756, 16051750, 16021756, 16051750, 15951753, 15801753, 15651754, 15801753, 15651754, 15611749, 15831745, 15611749, 15651732, 15651739, 15681746, 15831745, 15611749, 15531757, 15651754, 15531757, 15441764, 15431725, 15441764, 15531757, 15611749, 15681746, 15831745, 15681746, 15651739, 15681746, 15651739, 15651732, 15651723, 15651732, 15611749, 15651732, 15611749, 15651754, 15531757, 15611749, 15531757, 15651754, 15531757, 15611749, 15681746, 15831745, 15911744, 15891736, 15651732, 15611749, 15651732, 15891736, 16001737, 15891736, 15831726, 15821723, 15831726, 15971732, 15941726, 15831726, 15821723, 15831726, 15821723, 15831726, 15821723, 15831726, 15971732, 16011730, 16121732, 16081741, 16001737, 15991745, 16001737, 15991745, 15911744, 15891736, 16001737, 16081741, 16321746, 16081741, 16071745, 16081741, 16001737, 16121732, 16001737, 16081741, 16121732, 16371735, 16121732, 16001737, 15971732, 16011730, 16121732, 16001737, 16121732, 16371735, 16561741, 16561743, 16421744, 16371735, 16561741, 16371735, 16421744, 16071745, 16051750, 15951753, 16021756, 15911779, 15931781, 15761842, 15941834, 15841854, 15681844, 15841854, 15491853, 15221843, 15571818, 15221843, 13341864, 14671957, 15491853, 14671957, 13341864, 12351837, 11321746, 11251704, 8611522, 12321385, 12271393, 9791429, 10111496]\n",
      "[9791429, 12271393, 9791429, 12271393, 12321385, 8611522, 9361783, 8611522, 9361783, 8611522, 9361783, 9291784, 9361783, 9291784, 9611790, 9061761, 9291784, 9611790, 11321746, 11251704, 8611522, 11251704, 8611522, 9361783, 11391765, 9361783, 8611522, 11251704, 8611522, 8631524, 10351609, 10381699, 10351609, 8631524, 8611522, 12321385, 8611522, 8631524, 8441694, 9061761, 8441694, 10381699, 11251704, 10381699, 11251704, 12681748, 11391765, 9361783, 11391765, 12681748, 14211727, 14931717, 15581717, 14931717, 14971722, 15651723, 14971722, 14931717, 14971722, 15651723, 14971722, 14931717, 15581717, 16541744, 15931781, 16541744, 16561744, 16541744, 15581717, 14931717, 14971722, 15651723, 15651732, 15651739, 15681746, 15651739, 15681746, 15651739, 15681746, 15651739, 15651732, 15891736, 15831726, 15651723, 14971722, 14271730, 14211727, 14271730, 14311740, 14271730, 13991769, 14271730, 13991769, 13881767, 13531780, 13881767, 13531780, 12991762, 12631755, 12991762, 12631755, 12681748, 11391765, 11321746, 11391765, 9361783, 11391765, 9361783, 8611522, 9361783, 9081958, 12032132, 15832241, 12032132, 15832241, 17062210, 16852174, 18212132, 18202128, 16852174, 12032132, 9081958, 9361783, 8611522, 9361783, 8611522, 12321385, 8611522, 11251704, 12681748, 14211727, 14931717, 14971722, 14931717, 14211727, 12681748, 11251704, 11321746, 11251704, 12681748, 11391765, 9361783, 8611522, 8631524, 8611522, 11251704, 11321746, 9611790, 9061761, 9611790, 9291784, 9361783, 9291784, 9361783, 8611522, 11251704, 8611522, 8631524, 8441694, 10381699, 8441694, 8631524, 8611522, 13491586, 13461591, 13491586, 13461591, 10351609, 13461591, 12271393, 13461591, 10351609, 8631524, 9791429, 12271393, 12321385, 14601225, 12321385, 12271393, 14611235, 14601225, 15911575, 17311606, 15911575, 13491586, 13461591, 10351609, 13461591, 13491586, 8611522, 11251704, 8611522, 8631524, 8611522, 11251704, 11321746, 12351837, 11321746, 11391765, 12681748, 12631755, 12681748, 12631755, 12991762, 13531780, 13881767, 13531780, 12991762, 13531780, 15221843, 15681844, 15591825, 15941834, 15761842, 15941834, 16141820, 16321770, 16141820, 15941834, 15761842, 15681844, 15491853, 15841854, 15491853, 15221843, 13341864, 12351837, 11321746, 11251704, 8611522, 11251704, 8611522, 11251704, 8611522, 12321385, 14601225, 14611235, 14601225, 15911575, 14601225, 12321385, 12271393, 14611235, 12271393, 13461591, 14431547, 14521393, 14611235, 12271393, 12321385, 12271393, 14611235, 16621388, 14611235, 14521393, 14431547, 14521393, 14611235, 14601225, 14611235, 16621388, 14521393, 14611235, 14601225, 12321385, 8611522, 11251704, 10381699, 10351609, 10381699, 10351609, 8631524, 8441694, 10381699, 11251704, 8611522, 11251704, 10381699, 10351609, 13461591, 14071655, 13461591, 10351609, 8631524, 10351609, 10111496]\n",
      "[9791429, 8631524, 8441694, 10381699, 8441694, 8631524, 8611522, 12321385, 8611522, 11251704, 10381699, 10351609, 10381699, 10351609, 8631524, 9791429, 10111496]\n",
      "[9791429, 8631524, 10351609, 8631524, 10351609, 13461591, 13491586, 15911575, 17311606, 16401702, 16191675, 15041554, 16191675, 15561685, 15561689, 16401702, 16191675, 17161614, 16191675, 15561685, 15431681, 15431725, 15441764, 15531757, 15611749, 15681746, 15831745, 15911744, 15831745, 15611749, 15681746, 15831745, 15681746, 15831745, 15911744, 15991745, 16071745, 15991745, 16001737, 15891736, 16001737, 15971732, 16011730, 16121732, 16011730, 15971732, 16001737, 15891736, 15911744, 15991745, 16071745, 16051750, 16271751, 16051750, 15951753, 15801753, 15951753, 16051750, 16071745, 16421744, 16371735, 16421744, 16071745, 15991745, 16071745, 16081741, 16321746, 16081741, 16321746, 16081741, 16121732, 16001737, 15991745, 16001737, 15991745, 16071745, 16081741, 16321746, 16081741, 16001737, 15971732, 15831726, 15891736, 15651732, 15651723, 14971722, 15651723, 14971722, 15651723, 14971722, 14931717, 14971722, 14931717, 15581717, 15651723, 15651732, 15651723, 15651732, 15651723, 15831726, 15891736, 15651732, 15611749, 15681746, 15831745, 15681746, 15611749, 15831745, 15611749, 15831745, 15681746, 15831745, 15611749, 15531757, 15651754, 15801753, 15651754, 15611749, 15651754, 15801753, 15951753, 16021756, 16171762, 16021756, 15951753, 15801753, 15651754, 15801753, 15951753, 15801753, 15951753, 16021756, 16171762, 16131766, 16161770, 16171762, 16131766, 16251761, 16271751, 16251761, 16261769, 16251761, 16131766, 16171762, 16131766, 16061772, 16131766, 16171762, 16021756, 15911779, 16021756, 16051750, 16071745, 16051750, 16071745, 16081741, 16321746, 16081741, 16001737, 15971732, 16001737, 15891736, 15651732, 15651739, 15651732, 15651739, 15681746, 15611749, 15681746, 15611749, 15681746, 15831745, 15911744, 15831745, 15611749, 15681746, 15611749, 15651732, 15651739, 15681746, 15831745, 15611749, 15681746, 15831745, 15611749, 15831745, 15681746, 15611749, 15681746, 15831745, 15911744, 15991745, 15911744, 15891736, 15831726, 15821723, 15831726, 15821723, 15831726, 15971732, 15831726, 15941726, 16011730, 15971732, 16011730, 15971732, 16001737, 15891736, 15831726, 15651723, 15831726, 15821723, 15831726, 15821723, 15831726, 15821723, 15831726, 15651723, 15581717, 14931717, 15581717, 15651723, 15581717, 14931717, 15581717, 15651723, 15651732, 15891736, 15831726, 15941726, 15971732, 16001737, 16121732, 16371735, 16561741, 16371735, 16421744, 16071745, 16421744, 16371735, 16421744, 16071745, 16051750, 16271751, 16251761, 16261769, 16251761, 16261769, 16251761, 16131766, 16171762, 16251761, 16171762, 16131766, 16161770, 16061772, 16011779, 16061772, 16131766, 16171762, 16161770, 16261769, 16251761, 16131766, 16061772, 16131766, 16061772, 16011779, 16061772, 16011779, 16061772, 16161770, 16261769, 16251761, 16271751, 16251761, 16261769, 16251761, 16131766, 16061772, 16131766, 16061772, 16131766, 16251761, 16271751, 16051750, 16021756, 16171762, 16251761, 16261769, 16161770, 16261769, 16251761, 16261769, 16251761, 16261769, 16321770, 16141820, 15941834, 15841854, 15941834, 15841854, 16031862, 15841854, 16031862, 16601871, 16031862, 16601871, 16881879, 17011893, 16881879, 17341839, 17501821, 17741838, 17501821, 17511801, 17391779, 17511801, 17671780, 17471779, 17671780, 18091793, 17741838, 17931870, 18161848, 18091793, 18161848, 18841828, 20321731, 18841828, 20321731, 18011741, 18021751, 18001757, 18021751, 18011741, 17671741, 17251748, 17671741, 18001757, 18091793, 17671780, 18001757, 18021751, 18001757, 18091793, 17671780, 17511801, 17391779, 17471779, 17671780, 18091793, 18001757, 17671741, 17251748, 17151748, 17191741, 51889340, 19151566, 19711561, 19711562, 19711561, 18201536, 19151566, 18201536, 16851497, 16491584, 16851497, 18201536, 19711561, 19151566, 18201536, 19711561, 19711562, 19131564, 17311606, 16401702, 15561689, 16401702, 15561689, 15561685, 16191675, 17161614, 19151566, 17161614, 15861586, 15041554, 16191675, 15041554, 15861586, 15431681, 15431725, 15431681, 15561685, 15431681, 15861586, 17161614, 19151566, 17161614, 19151566, 19711561, 18201536, 16851497, 18201536, 19711561, 18201536, 19711561, 19711562, 19711561, 18201536, 16851497, 16491584, 16851497, 18201536, 16851497, 16621388, 16851497, 16621388, 14521393, 12271393, 13461591, 14071655, 15431681, 14071655, 13461591, 13491586, 13461591, 10351609, 13461591, 14071655, 15431681, 15861586, 17161614, 15861586, 15431681, 15561685, 16191675, 16401702, 17311606, 16401702, 16191675, 15041554, 15861586, 16491584, 15861586, 17161614, 16191675, 17161614, 16191675, 17161614, 16191675, 16401702, 17311606, 19131564, 17311606, 16401702, 15561689, 15561685, 15431681, 15861586, 17161614, 19151566, 51889340, 19151566, 19711561, 19151566, 18201536, 19151566, 51889340, 17191741, 17151748, 17191741, 17151748, 17251748, 17151748, 17251748, 17671741, 17251748, 17671741, 18001757, 17671741, 18001757, 17671741, 18001757, 18021751, 18011741, 18211722, 18011741, 20321731, 20391706, 19871684, 20391706, 19871684, 18901710, 18211722, 18901710, 19871684, 18901710, 18211722, 18901710, 18211722, 18011741, 17671741, 18001757, 18021751, 18001757, 17671741, 18011741, 18211722, 18011741, 18211722, 18011741, 20321731, 20391706, 19871684, 20331668, 21141652, 21271622, 21141652, 21271622, 21121576, 21271622, 21121576, 21271622, 21121576, 21271622, 21141652, 21271622, 21121576, 21271622, 21121576, 21271622, 21141652, 20331668, 19871684, 20331668, 19871684, 18901710, 19871684, 20391706, 19871684, 18901710, 18211722, 18011741, 18211722, 18011741, 18021751, 18001757, 18021751, 18001757, 18091793, 18161848, 18841828, 20321731, 18011741, 18021751, 18011741, 18211722, 18011741, 18211722, 18901710, 19871684, 20391706, 19871684, 20331668, 19871684, 18901710, 18211722, 18011741, 18211722, 18901710, 19871684, 18901710, 18211722, 18011741, 20321731, 20391706, 20321731, 20391706, 19871684, 20391706, 19871684, 18901710, 19871684, 20391706, 19871684, 20331668, 19871684, 18901710, 19871684, 20391706, 20321731, 18841828, 18091793, 17671780, 17511801, 17501821, 17741838, 17501821, 16921782, 16721771, 16721768, 16461768, 16411764, 16461768, 16411782, 16361787, 16411782, 16461768, 16501762, 16431761, 16391752, 16531745, 16541744, 16531745, 16391752, 16531745, 16391752, 16531745, 16541744, 16531745, 16561743, 16561741, 16561743, 16561741, 16561738, 16561741, 16561738, 16551739, 16561738, 16631738, 16561738, 16551739, 16561738, 16551739, 16561738, 16561741, 16561743, 16531745, 16541744, 16561744, 16541744, 15931781, 16541744, 16531745, 16531749, 16511757, 16531749, 16701748, 16721745, 16561743, 16421744, 16071745, 16421744, 16071745, 16051750, 16271751, 16251761, 16131766, 16171762, 16021756, 15951753, 15801753, 15951753, 16021756, 15951753, 16051750, 15951753, 15801753, 15651754, 15611749, 15651732, 15891736, 15911744, 15991745, 16001737, 15971732, 15831726, 15651723, 15581717, 16541744, 16561744, 16541744, 15931781, 16541744, 16561744, 16541744, 15581717, 14931717, 15581717, 14931717, 15581717, 15651723, 15581717, 16541744, 16531745, 16541744, 16531745, 16391752, 16531745, 16531749, 16511757, 16531749, 16511757, 16501762, 16461768, 16411782, 16461768, 16721768, 16771756, 16721768, 16701748, 16531749, 16531745, 16541744, 15581717, 15651723, 15831726, 15891736, 15911744, 15831745, 15911744, 15991745, 15911744, 15831745, 15681746, 15831745, 15911744, 15831745, 15611749, 15651754, 15611749, 15651754, 15531757, 15651754, 15531757, 15611749, 15651732, 15651739, 15681746, 15651739, 15651732, 15651723, 15581717, 14931717, 14971722, 15651723, 15581717, 14931717, 14971722, 15651723, 15831726, 15891736, 15831726, 15821723, 15831726, 15971732, 16001737, 15971732, 15941726, 16011730, 16121732, 16011730, 16121732, 16081741, 16071745, 15991745, 15911744, 15831745, 15911744, 15991745, 15911744, 15991745, 16071745, 16081741, 16321746, 16081741, 16001737, 15991745, 15911744, 15891736, 16001737, 15991745, 16001737, 15891736, 16001737, 16081741, 16001737, 15971732, 16001737, 16081741, 16121732, 16001737, 15971732, 15941726, 15831726, 15821723, 15831726, 15891736, 16001737, 16081741, 16121732, 16371735, 16561741, 16561738, 16561741, 16371735, 16121732, 16081741, 16121732, 16081741, 16121732, 16081741, 16321746, 16081741, 16321746, 16081741, 16121732, 16081741, 16321746, 16081741, 16001737, 15891736, 15911744, 15831745, 15611749, 15681746, 15831745, 15611749, 15651754, 15801753, 15651754, 15531757, 15441764, 15531757, 15611749, 15531757, 15651754, 15531757, 15441764, 15431725, 15441764, 15531757, 15441764, 15431725, 15481720, 15431725, 15481720, 15431725, 15431681, 15861586, 17161614, 19151566, 19711561, 19711562, 19711561, 19151566, 19711561, 18201536, 19711561, 18201536, 19151566, 17161614, 15861586, 17161614, 19151566, 19711561, 19151566, 51889340, 19151566, 19711561, 19711562, 19711561, 18201536, 19711561, 19151566, 19131564, 17311606, 19131564, 19711562, 19711561, 19711562, 19131564, 17311606, 16401702, 17311606, 19131564, 17311606, 16401702, 17311606, 19131564, 17311606, 16401702, 16191675, 15041554, 15861586, 16491584, 16851497, 16621388, 14521393, 14431547, 14521393, 12271393, 12321385, 14601225, 12321385, 12271393, 12321385, 14601225, 14611235, 12271393, 13461591, 14071655, 13461591, 10351609, 10111496]\n",
      "Generation =  0\n",
      "Pareant a =  [9791429, 8631524, 9791429, 8631524, 8611522, 13491586, 8611522, 13491586, 8611522, 8631524, 10351609, 10381699, 10351609, 10381699, 8441694, 9061761, 8441694, 10381699, 8441694, 8631524, 8441694, 9061761, 8441694, 9061761, 9611790, 11321746, 12351837, 13341864, 14671957, 13341864, 14671957, 14262019, 12872098, 14202070, 14262019, 14202070, 12872098, 14202070, 12872098, 14202070, 15602006, 16842053, 15602006, 14671957, 13341864, 13991769, 14311740, 14271730, 14971722, 14271730, 14311740, 13991769, 14311740, 13991769, 13341864, 13991769, 14311740, 13991769, 14271730, 14971722, 14931717, 14211727, 14931717, 15581717, 15651723, 15581717, 16541744, 16531745, 16561743, 16421744, 16371735, 16421744, 16071745, 15991745, 16071745, 16421744, 16071745, 15991745, 16071745, 16081741, 16001737, 15971732, 16011730, 16121732, 16371735, 16561741, 16371735, 16121732, 16011730, 15941726, 15971732, 15831726, 15651723, 15831726, 15891736, 15651732, 15891736, 16001737, 16081741, 16321746, 16081741, 16321746, 16081741, 16321746, 16081741, 16001737, 15891736, 15831726, 15941726, 16011730, 15941726, 16011730, 15971732, 15941726, 15831726, 15651723, 15651732, 15611749, 15651732, 15891736, 16001737, 15971732, 16001737, 15971732, 16001737, 16081741, 16001737, 16081741, 16001737, 16081741, 16121732, 16001737, 15971732, 16011730, 16121732, 16011730, 15941726, 15831726, 15971732, 16001737, 15971732, 16011730, 15941726, 15971732, 15831726, 15651723, 15651732, 15651723, 15831726, 15971732, 16001737, 15891736, 15651732, 15891736, 16001737, 16121732, 16371735, 16121732, 16001737, 15991745, 16071745, 16051750, 16071745, 16081741, 16071745, 16051750, 16021756, 15951753, 16021756, 15951753, 16021756, 16171762, 16161770, 16131766, 16161770, 16171762, 16021756, 16051750, 16021756, 16051750, 16021756, 16051750, 15951753, 15801753, 15651754, 15801753, 15651754, 15611749, 15831745, 15611749, 15651732, 15651739, 15681746, 15831745, 15611749, 15531757, 15651754, 15531757, 15441764, 15431725, 15441764, 15531757, 15611749, 15681746, 15831745, 15681746, 15651739, 15681746, 15651739, 15651732, 15651723, 15651732, 15611749, 15651732, 15611749, 15651754, 15531757, 15611749, 15531757, 15651754, 15531757, 15611749, 15681746, 15831745, 15911744, 15891736, 15651732, 15611749, 15651732, 15891736, 16001737, 15891736, 15831726, 15821723, 15831726, 15971732, 15941726, 15831726, 15821723, 15831726, 15821723, 15831726, 15821723, 15831726, 15971732, 16011730, 16121732, 16081741, 16001737, 15991745, 16001737, 15991745, 15911744, 15891736, 16001737, 16081741, 16321746, 16081741, 16071745, 16081741, 16001737, 16121732, 16001737, 16081741, 16121732, 16371735, 16121732, 16001737, 15971732, 16011730, 16121732, 16001737, 16121732, 16371735, 16561741, 16561743, 16421744, 16371735, 16561741, 16371735, 16421744, 16071745, 16051750, 15951753, 16021756, 15911779, 15931781, 15761842, 15941834, 15841854, 15681844, 15841854, 15491853, 15221843, 15571818, 15221843, 13341864, 14671957, 15491853, 14671957, 13341864, 12351837, 11321746, 11251704, 8611522, 12321385, 12271393, 9791429, 10111496]\n",
      "Pareant b =  [9791429, 12271393, 9791429, 12271393, 12321385, 8611522, 9361783, 8611522, 9361783, 8611522, 9361783, 9291784, 9361783, 9291784, 9611790, 9061761, 9291784, 9611790, 11321746, 11251704, 8611522, 11251704, 8611522, 9361783, 11391765, 9361783, 8611522, 11251704, 8611522, 8631524, 10351609, 10381699, 10351609, 8631524, 8611522, 12321385, 8611522, 8631524, 8441694, 9061761, 8441694, 10381699, 11251704, 10381699, 11251704, 12681748, 11391765, 9361783, 11391765, 12681748, 14211727, 14931717, 15581717, 14931717, 14971722, 15651723, 14971722, 14931717, 14971722, 15651723, 14971722, 14931717, 15581717, 16541744, 15931781, 16541744, 16561744, 16541744, 15581717, 14931717, 14971722, 15651723, 15651732, 15651739, 15681746, 15651739, 15681746, 15651739, 15681746, 15651739, 15651732, 15891736, 15831726, 15651723, 14971722, 14271730, 14211727, 14271730, 14311740, 14271730, 13991769, 14271730, 13991769, 13881767, 13531780, 13881767, 13531780, 12991762, 12631755, 12991762, 12631755, 12681748, 11391765, 11321746, 11391765, 9361783, 11391765, 9361783, 8611522, 9361783, 9081958, 12032132, 15832241, 12032132, 15832241, 17062210, 16852174, 18212132, 18202128, 16852174, 12032132, 9081958, 9361783, 8611522, 9361783, 8611522, 12321385, 8611522, 11251704, 12681748, 14211727, 14931717, 14971722, 14931717, 14211727, 12681748, 11251704, 11321746, 11251704, 12681748, 11391765, 9361783, 8611522, 8631524, 8611522, 11251704, 11321746, 9611790, 9061761, 9611790, 9291784, 9361783, 9291784, 9361783, 8611522, 11251704, 8611522, 8631524, 8441694, 10381699, 8441694, 8631524, 8611522, 13491586, 13461591, 13491586, 13461591, 10351609, 13461591, 12271393, 13461591, 10351609, 8631524, 9791429, 12271393, 12321385, 14601225, 12321385, 12271393, 14611235, 14601225, 15911575, 17311606, 15911575, 13491586, 13461591, 10351609, 13461591, 13491586, 8611522, 11251704, 8611522, 8631524, 8611522, 11251704, 11321746, 12351837, 11321746, 11391765, 12681748, 12631755, 12681748, 12631755, 12991762, 13531780, 13881767, 13531780, 12991762, 13531780, 15221843, 15681844, 15591825, 15941834, 15761842, 15941834, 16141820, 16321770, 16141820, 15941834, 15761842, 15681844, 15491853, 15841854, 15491853, 15221843, 13341864, 12351837, 11321746, 11251704, 8611522, 11251704, 8611522, 11251704, 8611522, 12321385, 14601225, 14611235, 14601225, 15911575, 14601225, 12321385, 12271393, 14611235, 12271393, 13461591, 14431547, 14521393, 14611235, 12271393, 12321385, 12271393, 14611235, 16621388, 14611235, 14521393, 14431547, 14521393, 14611235, 14601225, 14611235, 16621388, 14521393, 14611235, 14601225, 12321385, 8611522, 11251704, 10381699, 10351609, 10381699, 10351609, 8631524, 8441694, 10381699, 11251704, 8611522, 11251704, 10381699, 10351609, 13461591, 14071655, 13461591, 10351609, 8631524, 10351609, 10111496]\n",
      "Slice to check a =  [8631524, 9791429, 8631524, 8611522, 13491586, 8611522, 13491586, 8611522, 8631524, 10351609, 10381699, 10351609, 10381699, 8441694, 9061761, 8441694, 10381699, 8441694, 8631524, 8441694, 9061761, 8441694, 9061761, 9611790, 11321746, 12351837, 13341864, 14671957, 13341864, 14671957, 14262019, 12872098, 14202070, 14262019, 14202070, 12872098, 14202070, 12872098, 14202070, 15602006, 16842053, 15602006, 14671957, 13341864, 13991769, 14311740, 14271730, 14971722, 14271730, 14311740, 13991769, 14311740, 13991769, 13341864, 13991769, 14311740, 13991769, 14271730, 14971722, 14931717, 14211727, 14931717, 15581717, 15651723, 15581717, 16541744, 16531745, 16561743, 16421744, 16371735, 16421744, 16071745, 15991745, 16071745, 16421744, 16071745, 15991745, 16071745, 16081741, 16001737, 15971732, 16011730, 16121732, 16371735, 16561741, 16371735, 16121732, 16011730, 15941726, 15971732, 15831726, 15651723, 15831726, 15891736, 15651732, 15891736, 16001737, 16081741, 16321746, 16081741, 16321746, 16081741, 16321746, 16081741, 16001737, 15891736, 15831726, 15941726, 16011730, 15941726, 16011730, 15971732, 15941726, 15831726, 15651723, 15651732, 15611749, 15651732, 15891736, 16001737, 15971732, 16001737, 15971732, 16001737, 16081741, 16001737, 16081741, 16001737, 16081741, 16121732, 16001737, 15971732, 16011730, 16121732, 16011730, 15941726, 15831726, 15971732, 16001737, 15971732, 16011730, 15941726, 15971732, 15831726, 15651723, 15651732, 15651723, 15831726, 15971732, 16001737, 15891736, 15651732, 15891736, 16001737, 16121732, 16371735, 16121732, 16001737, 15991745, 16071745, 16051750, 16071745, 16081741, 16071745, 16051750, 16021756, 15951753, 16021756, 15951753, 16021756, 16171762, 16161770, 16131766, 16161770, 16171762, 16021756, 16051750, 16021756, 16051750, 16021756, 16051750, 15951753, 15801753, 15651754, 15801753, 15651754, 15611749, 15831745, 15611749, 15651732, 15651739, 15681746, 15831745, 15611749, 15531757, 15651754, 15531757, 15441764, 15431725, 15441764, 15531757, 15611749, 15681746, 15831745, 15681746, 15651739, 15681746, 15651739, 15651732, 15651723, 15651732, 15611749, 15651732, 15611749, 15651754, 15531757, 15611749, 15531757, 15651754, 15531757, 15611749, 15681746, 15831745, 15911744, 15891736, 15651732, 15611749, 15651732, 15891736, 16001737, 15891736, 15831726, 15821723, 15831726, 15971732, 15941726, 15831726, 15821723, 15831726, 15821723, 15831726, 15821723, 15831726, 15971732, 16011730, 16121732, 16081741, 16001737, 15991745, 16001737, 15991745, 15911744, 15891736, 16001737, 16081741, 16321746, 16081741, 16071745, 16081741, 16001737, 16121732, 16001737, 16081741, 16121732, 16371735, 16121732, 16001737, 15971732, 16011730, 16121732, 16001737, 16121732, 16371735, 16561741, 16561743, 16421744, 16371735, 16561741, 16371735, 16421744, 16071745, 16051750, 15951753, 16021756, 15911779, 15931781, 15761842, 15941834, 15841854, 15681844, 15841854, 15491853, 15221843, 15571818, 15221843, 13341864, 14671957, 15491853, 14671957, 13341864, 12351837, 11321746, 11251704, 8611522, 12321385, 12271393, 9791429]\n",
      "Slice to check b =  [12271393, 9791429, 12271393, 12321385, 8611522, 9361783, 8611522, 9361783, 8611522, 9361783, 9291784, 9361783, 9291784, 9611790, 9061761, 9291784, 9611790, 11321746, 11251704, 8611522, 11251704, 8611522, 9361783, 11391765, 9361783, 8611522, 11251704, 8611522, 8631524, 10351609, 10381699, 10351609, 8631524, 8611522, 12321385, 8611522, 8631524, 8441694, 9061761, 8441694, 10381699, 11251704, 10381699, 11251704, 12681748, 11391765, 9361783, 11391765, 12681748, 14211727, 14931717, 15581717, 14931717, 14971722, 15651723, 14971722, 14931717, 14971722, 15651723, 14971722, 14931717, 15581717, 16541744, 15931781, 16541744, 16561744, 16541744, 15581717, 14931717, 14971722, 15651723, 15651732, 15651739, 15681746, 15651739, 15681746, 15651739, 15681746, 15651739, 15651732, 15891736, 15831726, 15651723, 14971722, 14271730, 14211727, 14271730, 14311740, 14271730, 13991769, 14271730, 13991769, 13881767, 13531780, 13881767, 13531780, 12991762, 12631755, 12991762, 12631755, 12681748, 11391765, 11321746, 11391765, 9361783, 11391765, 9361783, 8611522, 9361783, 9081958, 12032132, 15832241, 12032132, 15832241, 17062210, 16852174, 18212132, 18202128, 16852174, 12032132, 9081958, 9361783, 8611522, 9361783, 8611522, 12321385, 8611522, 11251704, 12681748, 14211727, 14931717, 14971722, 14931717, 14211727, 12681748, 11251704, 11321746, 11251704, 12681748, 11391765, 9361783, 8611522, 8631524, 8611522, 11251704, 11321746, 9611790, 9061761, 9611790, 9291784, 9361783, 9291784, 9361783, 8611522, 11251704, 8611522, 8631524, 8441694, 10381699, 8441694, 8631524, 8611522, 13491586, 13461591, 13491586, 13461591, 10351609, 13461591, 12271393, 13461591, 10351609, 8631524, 9791429, 12271393, 12321385, 14601225, 12321385, 12271393, 14611235, 14601225, 15911575, 17311606, 15911575, 13491586, 13461591, 10351609, 13461591, 13491586, 8611522, 11251704, 8611522, 8631524, 8611522, 11251704, 11321746, 12351837, 11321746, 11391765, 12681748, 12631755, 12681748, 12631755, 12991762, 13531780, 13881767, 13531780, 12991762, 13531780, 15221843, 15681844, 15591825, 15941834, 15761842, 15941834, 16141820, 16321770, 16141820, 15941834, 15761842, 15681844, 15491853, 15841854, 15491853, 15221843, 13341864, 12351837, 11321746, 11251704, 8611522, 11251704, 8611522, 11251704, 8611522, 12321385, 14601225, 14611235, 14601225, 15911575, 14601225, 12321385, 12271393, 14611235, 12271393, 13461591, 14431547, 14521393, 14611235, 12271393, 12321385, 12271393, 14611235, 16621388, 14611235, 14521393, 14431547, 14521393, 14611235, 14601225, 14611235, 16621388, 14521393, 14611235, 14601225, 12321385, 8611522, 11251704, 10381699, 10351609, 10381699, 10351609, 8631524, 8441694, 10381699, 11251704, 8611522, 11251704, 10381699, 10351609, 13461591, 14071655, 13461591, 10351609, 8631524, 10351609]\n",
      "gene position at B:  28\n",
      "gene position at A:  0\n",
      "Possible cross points:  117\n",
      "possible crosses at b:  [28, 1, 28, 4, 162, 4, 162, 4, 28, 29, 30, 29, 30, 37, 14, 37, 30, 37, 28, 37, 14, 37, 14, 13, 17, 195, 224, 224, 224, 89, 87, 84, 53, 84, 87, 89, 87, 89, 224, 89, 87, 89, 84, 53, 50, 49, 50, 51, 54, 51, 62, 81, 54, 81, 80, 71, 80, 80, 81, 81, 54, 71, 71, 80, 81, 81, 54, 71, 54, 81, 80, 71, 80, 71, 72, 73, 73, 73, 72, 73, 72, 71, 54, 71, 71, 73, 80, 71, 71, 80, 80, 81, 81, 81, 81, 81, 81, 80, 63, 212, 211, 221, 209, 221, 220, 208, 208, 224, 220, 224, 195, 17, 18, 4, 3, 0, 1]\n",
      "Possible crosses at a:  [0, 0, 0, 0, 0, 0, 0, 0, 0, 0, 0, 0, 0, 0, 0, 0, 0, 0, 0, 0, 0, 0, 0, 0, 0, 0, 0, 0, 0, 0, 0, 0, 0, 0, 0, 0, 0, 0, 0, 0, 0, 0, 0, 0, 0, 0, 0, 0, 0, 0, 0, 0, 0, 0, 0, 0, 0, 0, 0, 0, 0, 0, 0, 0, 0, 0, 0, 0, 0, 0, 0, 0, 0, 0, 0, 0, 0, 0, 0, 0, 0, 0, 0, 0, 0, 0, 0, 0, 0, 0, 0, 0, 0, 0, 0, 0, 0, 0, 0, 0, 0, 0, 0, 0, 0, 0, 0, 0, 0, 0, 0, 0, 0, 0, 0, 0, 0]\n",
      "cut pos 26\n",
      "cut a:  [8631524, 9791429, 8631524, 8611522, 13491586, 8611522, 13491586, 8611522, 8631524, 10351609, 10381699, 10351609, 10381699, 8441694, 9061761, 8441694, 10381699, 8441694, 8631524, 8441694, 9061761, 8441694, 9061761, 9611790, 11321746, 12351837, 13341864, 14671957, 13341864, 14671957, 14262019, 12872098, 14202070, 14262019, 14202070, 12872098, 14202070, 12872098, 14202070, 15602006, 16842053, 15602006, 14671957, 13341864, 13991769, 14311740, 14271730, 14971722, 14271730, 14311740, 13991769, 14311740, 13991769, 13341864, 13991769, 14311740, 13991769, 14271730, 14971722, 14931717, 14211727, 14931717, 15581717, 15651723, 15581717, 16541744, 16531745, 16561743, 16421744, 16371735, 16421744, 16071745, 15991745, 16071745, 16421744, 16071745, 15991745, 16071745, 16081741, 16001737, 15971732, 16011730, 16121732, 16371735, 16561741, 16371735, 16121732, 16011730, 15941726, 15971732, 15831726, 15651723, 15831726, 15891736, 15651732, 15891736, 16001737, 16081741, 16321746, 16081741, 16321746, 16081741, 16321746, 16081741, 16001737, 15891736, 15831726, 15941726, 16011730, 15941726, 16011730, 15971732, 15941726, 15831726, 15651723, 15651732, 15611749, 15651732, 15891736, 16001737, 15971732, 16001737, 15971732, 16001737, 16081741, 16001737, 16081741, 16001737, 16081741, 16121732, 16001737, 15971732, 16011730, 16121732, 16011730, 15941726, 15831726, 15971732, 16001737, 15971732, 16011730, 15941726, 15971732, 15831726, 15651723, 15651732, 15651723, 15831726, 15971732, 16001737, 15891736, 15651732, 15891736, 16001737, 16121732, 16371735, 16121732, 16001737, 15991745, 16071745, 16051750, 16071745, 16081741, 16071745, 16051750, 16021756, 15951753, 16021756, 15951753, 16021756, 16171762, 16161770, 16131766, 16161770, 16171762, 16021756, 16051750, 16021756, 16051750, 16021756, 16051750, 15951753, 15801753, 15651754, 15801753, 15651754, 15611749, 15831745, 15611749, 15651732, 15651739, 15681746, 15831745, 15611749, 15531757, 15651754, 15531757, 15441764, 15431725, 15441764, 15531757, 15611749, 15681746, 15831745, 15681746, 15651739, 15681746, 15651739, 15651732, 15651723, 15651732, 15611749, 15651732, 15611749, 15651754, 15531757, 15611749, 15531757, 15651754, 15531757, 15611749, 15681746, 15831745, 15911744, 15891736, 15651732, 15611749, 15651732, 15891736, 16001737, 15891736, 15831726, 15821723, 15831726, 15971732, 15941726, 15831726, 15821723, 15831726, 15821723, 15831726, 15821723, 15831726, 15971732, 16011730, 16121732, 16081741, 16001737, 15991745, 16001737, 15991745, 15911744, 15891736, 16001737, 16081741, 16321746, 16081741, 16071745, 16081741, 16001737, 16121732, 16001737, 16081741, 16121732, 16371735, 16121732, 16001737, 15971732, 16011730, 16121732, 16001737, 16121732, 16371735, 16561741, 16561743, 16421744, 16371735, 16561741, 16371735, 16421744, 16071745, 16051750, 15951753, 16021756, 15911779, 15931781, 15761842, 15941834, 15841854, 15681844, 15841854, 15491853, 15221843, 15571818, 15221843, 13341864, 14671957, 15491853, 14671957, 13341864, 12351837, 11321746, 11251704, 8611522, 12321385, 12271393, 9791429]\n",
      "cut b:  [13341864, 12351837, 11321746, 11251704, 8611522, 11251704, 8611522, 11251704, 8611522, 12321385, 14601225, 14611235, 14601225, 15911575, 14601225, 12321385, 12271393, 14611235, 12271393, 13461591, 14431547, 14521393, 14611235, 12271393, 12321385, 12271393, 14611235, 16621388, 14611235, 14521393, 14431547, 14521393, 14611235, 14601225, 14611235, 16621388, 14521393, 14611235, 14601225, 12321385, 8611522, 11251704, 10381699, 10351609, 10381699, 10351609, 8631524, 8441694, 10381699, 11251704, 8611522, 11251704, 10381699, 10351609, 13461591, 14071655, 13461591, 10351609, 8631524, 10351609]\n",
      "cut a1:  []\n",
      "cut b1:  [12271393, 9791429, 12271393, 12321385, 8611522, 9361783, 8611522, 9361783, 8611522, 9361783, 9291784, 9361783, 9291784, 9611790, 9061761, 9291784, 9611790, 11321746, 11251704, 8611522, 11251704, 8611522, 9361783, 11391765, 9361783, 8611522, 11251704, 8611522, 8631524, 10351609, 10381699, 10351609, 8631524, 8611522, 12321385, 8611522, 8631524, 8441694, 9061761, 8441694, 10381699, 11251704, 10381699, 11251704, 12681748, 11391765, 9361783, 11391765, 12681748, 14211727, 14931717, 15581717, 14931717, 14971722, 15651723, 14971722, 14931717, 14971722, 15651723, 14971722, 14931717, 15581717, 16541744, 15931781, 16541744, 16561744, 16541744, 15581717, 14931717, 14971722, 15651723, 15651732, 15651739, 15681746, 15651739, 15681746, 15651739, 15681746, 15651739, 15651732, 15891736, 15831726, 15651723, 14971722, 14271730, 14211727, 14271730, 14311740, 14271730, 13991769, 14271730, 13991769, 13881767, 13531780, 13881767, 13531780, 12991762, 12631755, 12991762, 12631755, 12681748, 11391765, 11321746, 11391765, 9361783, 11391765, 9361783, 8611522, 9361783, 9081958, 12032132, 15832241, 12032132, 15832241, 17062210, 16852174, 18212132, 18202128, 16852174, 12032132, 9081958, 9361783, 8611522, 9361783, 8611522, 12321385, 8611522, 11251704, 12681748, 14211727, 14931717, 14971722, 14931717, 14211727, 12681748, 11251704, 11321746, 11251704, 12681748, 11391765, 9361783, 8611522, 8631524, 8611522, 11251704, 11321746, 9611790, 9061761, 9611790, 9291784, 9361783, 9291784, 9361783, 8611522, 11251704, 8611522, 8631524, 8441694, 10381699, 8441694, 8631524, 8611522, 13491586, 13461591, 13491586, 13461591, 10351609, 13461591, 12271393, 13461591, 10351609, 8631524, 9791429, 12271393, 12321385, 14601225, 12321385, 12271393, 14611235, 14601225, 15911575, 17311606, 15911575, 13491586, 13461591, 10351609, 13461591, 13491586, 8611522, 11251704, 8611522, 8631524, 8611522, 11251704, 11321746, 12351837, 11321746, 11391765, 12681748, 12631755, 12681748, 12631755, 12991762, 13531780, 13881767, 13531780, 12991762, 13531780, 15221843, 15681844, 15591825, 15941834, 15761842, 15941834, 16141820, 16321770, 16141820, 15941834, 15761842, 15681844, 15491853, 15841854, 15491853, 15221843]\n",
      "new [9791429, 13341864, 12351837, 11321746, 11251704, 8611522, 11251704, 8611522, 11251704, 8611522, 12321385, 14601225, 14611235, 14601225, 15911575, 14601225, 12321385, 12271393, 14611235, 12271393, 13461591, 14431547, 14521393, 14611235, 12271393, 12321385, 12271393, 14611235, 16621388, 14611235, 14521393, 14431547, 14521393, 14611235, 14601225, 14611235, 16621388, 14521393, 14611235, 14601225, 12321385, 8611522, 11251704, 10381699, 10351609, 10381699, 10351609, 8631524, 8441694, 10381699, 11251704, 8611522, 11251704, 10381699, 10351609, 13461591, 14071655, 13461591, 10351609, 8631524, 10351609, 10111496]\n",
      "new [9791429, 12271393, 9791429, 12271393, 12321385, 8611522, 9361783, 8611522, 9361783, 8611522, 9361783, 9291784, 9361783, 9291784, 9611790, 9061761, 9291784, 9611790, 11321746, 11251704, 8611522, 11251704, 8611522, 9361783, 11391765, 9361783, 8611522, 11251704, 8611522, 8631524, 10351609, 10381699, 10351609, 8631524, 8611522, 12321385, 8611522, 8631524, 8441694, 9061761, 8441694, 10381699, 11251704, 10381699, 11251704, 12681748, 11391765, 9361783, 11391765, 12681748, 14211727, 14931717, 15581717, 14931717, 14971722, 15651723, 14971722, 14931717, 14971722, 15651723, 14971722, 14931717, 15581717, 16541744, 15931781, 16541744, 16561744, 16541744, 15581717, 14931717, 14971722, 15651723, 15651732, 15651739, 15681746, 15651739, 15681746, 15651739, 15681746, 15651739, 15651732, 15891736, 15831726, 15651723, 14971722, 14271730, 14211727, 14271730, 14311740, 14271730, 13991769, 14271730, 13991769, 13881767, 13531780, 13881767, 13531780, 12991762, 12631755, 12991762, 12631755, 12681748, 11391765, 11321746, 11391765, 9361783, 11391765, 9361783, 8611522, 9361783, 9081958, 12032132, 15832241, 12032132, 15832241, 17062210, 16852174, 18212132, 18202128, 16852174, 12032132, 9081958, 9361783, 8611522, 9361783, 8611522, 12321385, 8611522, 11251704, 12681748, 14211727, 14931717, 14971722, 14931717, 14211727, 12681748, 11251704, 11321746, 11251704, 12681748, 11391765, 9361783, 8611522, 8631524, 8611522, 11251704, 11321746, 9611790, 9061761, 9611790, 9291784, 9361783, 9291784, 9361783, 8611522, 11251704, 8611522, 8631524, 8441694, 10381699, 8441694, 8631524, 8611522, 13491586, 13461591, 13491586, 13461591, 10351609, 13461591, 12271393, 13461591, 10351609, 8631524, 9791429, 12271393, 12321385, 14601225, 12321385, 12271393, 14611235, 14601225, 15911575, 17311606, 15911575, 13491586, 13461591, 10351609, 13461591, 13491586, 8611522, 11251704, 8611522, 8631524, 8611522, 11251704, 11321746, 12351837, 11321746, 11391765, 12681748, 12631755, 12681748, 12631755, 12991762, 13531780, 13881767, 13531780, 12991762, 13531780, 15221843, 15681844, 15591825, 15941834, 15761842, 15941834, 16141820, 16321770, 16141820, 15941834, 15761842, 15681844, 15491853, 15841854, 15491853, 15221843, 8631524, 9791429, 8631524, 8611522, 13491586, 8611522, 13491586, 8611522, 8631524, 10351609, 10381699, 10351609, 10381699, 8441694, 9061761, 8441694, 10381699, 8441694, 8631524, 8441694, 9061761, 8441694, 9061761, 9611790, 11321746, 12351837, 13341864, 14671957, 13341864, 14671957, 14262019, 12872098, 14202070, 14262019, 14202070, 12872098, 14202070, 12872098, 14202070, 15602006, 16842053, 15602006, 14671957, 13341864, 13991769, 14311740, 14271730, 14971722, 14271730, 14311740, 13991769, 14311740, 13991769, 13341864, 13991769, 14311740, 13991769, 14271730, 14971722, 14931717, 14211727, 14931717, 15581717, 15651723, 15581717, 16541744, 16531745, 16561743, 16421744, 16371735, 16421744, 16071745, 15991745, 16071745, 16421744, 16071745, 15991745, 16071745, 16081741, 16001737, 15971732, 16011730, 16121732, 16371735, 16561741, 16371735, 16121732, 16011730, 15941726, 15971732, 15831726, 15651723, 15831726, 15891736, 15651732, 15891736, 16001737, 16081741, 16321746, 16081741, 16321746, 16081741, 16321746, 16081741, 16001737, 15891736, 15831726, 15941726, 16011730, 15941726, 16011730, 15971732, 15941726, 15831726, 15651723, 15651732, 15611749, 15651732, 15891736, 16001737, 15971732, 16001737, 15971732, 16001737, 16081741, 16001737, 16081741, 16001737, 16081741, 16121732, 16001737, 15971732, 16011730, 16121732, 16011730, 15941726, 15831726, 15971732, 16001737, 15971732, 16011730, 15941726, 15971732, 15831726, 15651723, 15651732, 15651723, 15831726, 15971732, 16001737, 15891736, 15651732, 15891736, 16001737, 16121732, 16371735, 16121732, 16001737, 15991745, 16071745, 16051750, 16071745, 16081741, 16071745, 16051750, 16021756, 15951753, 16021756, 15951753, 16021756, 16171762, 16161770, 16131766, 16161770, 16171762, 16021756, 16051750, 16021756, 16051750, 16021756, 16051750, 15951753, 15801753, 15651754, 15801753, 15651754, 15611749, 15831745, 15611749, 15651732, 15651739, 15681746, 15831745, 15611749, 15531757, 15651754, 15531757, 15441764, 15431725, 15441764, 15531757, 15611749, 15681746, 15831745, 15681746, 15651739, 15681746, 15651739, 15651732, 15651723, 15651732, 15611749, 15651732, 15611749, 15651754, 15531757, 15611749, 15531757, 15651754, 15531757, 15611749, 15681746, 15831745, 15911744, 15891736, 15651732, 15611749, 15651732, 15891736, 16001737, 15891736, 15831726, 15821723, 15831726, 15971732, 15941726, 15831726, 15821723, 15831726, 15821723, 15831726, 15821723, 15831726, 15971732, 16011730, 16121732, 16081741, 16001737, 15991745, 16001737, 15991745, 15911744, 15891736, 16001737, 16081741, 16321746, 16081741, 16071745, 16081741, 16001737, 16121732, 16001737, 16081741, 16121732, 16371735, 16121732, 16001737, 15971732, 16011730, 16121732, 16001737, 16121732, 16371735, 16561741, 16561743, 16421744, 16371735, 16561741, 16371735, 16421744, 16071745, 16051750, 15951753, 16021756, 15911779, 15931781, 15761842, 15941834, 15841854, 15681844, 15841854, 15491853, 15221843, 15571818, 15221843, 13341864, 14671957, 15491853, 14671957, 13341864, 12351837, 11321746, 11251704, 8611522, 12321385, 12271393, 9791429, 10111496]\n",
      "Max genes to be crossed:  143\n",
      "new gen: [[9791429, 12271393, 9791429, 12271393, 12321385, 8611522, 9361783, 8611522, 9361783, 8611522, 9361783, 9291784, 9361783, 9291784, 9611790, 9061761, 9291784, 9611790, 11321746, 11251704, 8611522, 11251704, 8611522, 9361783, 11391765, 9361783, 8611522, 11251704, 8611522, 8631524, 10351609, 10381699, 10351609, 8631524, 8611522, 12321385, 8611522, 8631524, 8441694, 9061761, 8441694, 10381699, 11251704, 10381699, 11251704, 12681748, 11391765, 9361783, 11391765, 12681748, 14211727, 14931717, 15581717, 14931717, 14971722, 15651723, 14971722, 14931717, 14971722, 15651723, 14971722, 14931717, 15581717, 16541744, 15931781, 16541744, 16561744, 16541744, 15581717, 14931717, 14971722, 15651723, 15651732, 15651739, 15681746, 15651739, 15681746, 15651739, 15681746, 15651739, 15651732, 15891736, 15831726, 15651723, 14971722, 14271730, 14211727, 14271730, 14311740, 14271730, 13991769, 14271730, 13991769, 13881767, 13531780, 13881767, 13531780, 12991762, 12631755, 12991762, 12631755, 12681748, 11391765, 11321746, 11391765, 9361783, 11391765, 9361783, 8611522, 9361783, 9081958, 12032132, 15832241, 12032132, 15832241, 17062210, 16852174, 18212132, 18202128, 16852174, 12032132, 9081958, 9361783, 8611522, 9361783, 8611522, 12321385, 8611522, 11251704, 12681748, 14211727, 14931717, 14971722, 14931717, 14211727, 12681748, 11251704, 11321746, 11251704, 12681748, 11391765, 9361783, 8611522, 8631524, 8611522, 11251704, 11321746, 9611790, 9061761, 9611790, 9291784, 9361783, 9291784, 9361783, 8611522, 11251704, 8611522, 8631524, 8441694, 10381699, 8441694, 8631524, 8611522, 13491586, 13461591, 13491586, 13461591, 10351609, 13461591, 12271393, 13461591, 10351609, 8631524, 9791429, 12271393, 12321385, 14601225, 12321385, 12271393, 14611235, 14601225, 15911575, 17311606, 15911575, 13491586, 13461591, 10351609, 13461591, 13491586, 8611522, 11251704, 8611522, 8631524, 8611522, 11251704, 11321746, 12351837, 11321746, 11391765, 12681748, 12631755, 12681748, 12631755, 12991762, 13531780, 13881767, 13531780, 12991762, 13531780, 15221843, 15681844, 15591825, 15941834, 15761842, 15941834, 16141820, 16321770, 16141820, 15941834, 15761842, 15681844, 15491853, 15841854, 15491853, 15221843, 13341864, 12351837, 11321746, 11251704, 8611522, 11251704, 8611522, 11251704, 8611522, 12321385, 14601225, 14611235, 14601225, 15911575, 14601225, 12321385, 12271393, 14611235, 12271393, 13461591, 14431547, 14521393, 14611235, 12271393, 12321385, 12271393, 14611235, 16621388, 14611235, 14521393, 14431547, 14521393, 14611235, 14601225, 14611235, 16621388, 14521393, 14611235, 14601225, 12321385, 8611522, 11251704, 10381699, 10351609, 10381699, 10351609, 8631524, 8441694, 10381699, 11251704, 8611522, 11251704, 10381699, 10351609, 13461591, 14071655, 13461591, 10351609, 8631524, 10351609, 10111496], [9791429, 8631524, 10351609, 8631524, 10351609, 13461591, 13491586, 15911575, 17311606, 16401702, 16191675, 15041554, 16191675, 15561685, 15561689, 16401702, 16191675, 17161614, 16191675, 15561685, 15431681, 15431725, 15441764, 15531757, 15611749, 15681746, 15831745, 15911744, 15831745, 15611749, 15681746, 15831745, 15681746, 15831745, 15911744, 15991745, 16071745, 15991745, 16001737, 15891736, 16001737, 15971732, 16011730, 16121732, 16011730, 15971732, 16001737, 15891736, 15911744, 15991745, 16071745, 16051750, 16271751, 16051750, 15951753, 15801753, 15951753, 16051750, 16071745, 16421744, 16371735, 16421744, 16071745, 15991745, 16071745, 16081741, 16321746, 16081741, 16321746, 16081741, 16121732, 16001737, 15991745, 16001737, 15991745, 16071745, 16081741, 16321746, 16081741, 16001737, 15971732, 15831726, 15891736, 15651732, 15651723, 14971722, 15651723, 14971722, 15651723, 14971722, 14931717, 14971722, 14931717, 15581717, 15651723, 15651732, 15651723, 15651732, 15651723, 15831726, 15891736, 15651732, 15611749, 15681746, 15831745, 15681746, 15611749, 15831745, 15611749, 15831745, 15681746, 15831745, 15611749, 15531757, 15651754, 15801753, 15651754, 15611749, 15651754, 15801753, 15951753, 16021756, 16171762, 16021756, 15951753, 15801753, 15651754, 15801753, 15951753, 15801753, 15951753, 16021756, 16171762, 16131766, 16161770, 16171762, 16131766, 16251761, 16271751, 16251761, 16261769, 16251761, 16131766, 16171762, 16131766, 16061772, 16131766, 16171762, 16021756, 15911779, 16021756, 16051750, 16071745, 16051750, 16071745, 16081741, 16321746, 16081741, 16001737, 15971732, 16001737, 15891736, 15651732, 15651739, 15651732, 15651739, 15681746, 15611749, 15681746, 15611749, 15681746, 15831745, 15911744, 15831745, 15611749, 15681746, 15611749, 15651732, 15651739, 15681746, 15831745, 15611749, 15681746, 15831745, 15611749, 15831745, 15681746, 15611749, 15681746, 15831745, 15911744, 15991745, 15911744, 15891736, 15831726, 15821723, 15831726, 15821723, 15831726, 15971732, 15831726, 15941726, 16011730, 15971732, 16011730, 15971732, 16001737, 15891736, 15831726, 15651723, 15831726, 15821723, 15831726, 15821723, 15831726, 15821723, 15831726, 15651723, 15581717, 14931717, 15581717, 15651723, 15581717, 14931717, 15581717, 15651723, 15651732, 15891736, 15831726, 15941726, 15971732, 16001737, 16121732, 16371735, 16561741, 16371735, 16421744, 16071745, 16421744, 16371735, 16421744, 16071745, 16051750, 16271751, 16251761, 16261769, 16251761, 16261769, 16251761, 16131766, 16171762, 16251761, 16171762, 16131766, 16161770, 16061772, 16011779, 16061772, 16131766, 16171762, 16161770, 16261769, 16251761, 16131766, 16061772, 16131766, 16061772, 16011779, 16061772, 16011779, 16061772, 16161770, 16261769, 16251761, 16271751, 16251761, 16261769, 16251761, 16131766, 16061772, 16131766, 16061772, 16131766, 16251761, 16271751, 16051750, 16021756, 16171762, 16251761, 16261769, 16161770, 16261769, 16251761, 16261769, 16251761, 16261769, 16321770, 16141820, 15941834, 15841854, 15941834, 15841854, 16031862, 15841854, 16031862, 16601871, 16031862, 16601871, 16881879, 17011893, 16881879, 17341839, 17501821, 17741838, 17501821, 17511801, 17391779, 17511801, 17671780, 17471779, 17671780, 18091793, 17741838, 17931870, 18161848, 18091793, 18161848, 18841828, 20321731, 18841828, 20321731, 18011741, 18021751, 18001757, 18021751, 18011741, 17671741, 17251748, 17671741, 18001757, 18091793, 17671780, 18001757, 18021751, 18001757, 18091793, 17671780, 17511801, 17391779, 17471779, 17671780, 18091793, 18001757, 17671741, 17251748, 17151748, 17191741, 51889340, 19151566, 19711561, 19711562, 19711561, 18201536, 19151566, 18201536, 16851497, 16491584, 16851497, 18201536, 19711561, 19151566, 18201536, 19711561, 19711562, 19131564, 17311606, 16401702, 15561689, 16401702, 15561689, 15561685, 16191675, 17161614, 19151566, 17161614, 15861586, 15041554, 16191675, 15041554, 15861586, 15431681, 15431725, 15431681, 15561685, 15431681, 15861586, 17161614, 19151566, 17161614, 19151566, 19711561, 18201536, 16851497, 18201536, 19711561, 18201536, 19711561, 19711562, 19711561, 18201536, 16851497, 16491584, 16851497, 18201536, 16851497, 16621388, 16851497, 16621388, 14521393, 12271393, 13461591, 14071655, 15431681, 14071655, 13461591, 13491586, 13461591, 10351609, 13461591, 14071655, 15431681, 15861586, 17161614, 15861586, 15431681, 15561685, 16191675, 16401702, 17311606, 16401702, 16191675, 15041554, 15861586, 16491584, 15861586, 17161614, 16191675, 17161614, 16191675, 17161614, 16191675, 16401702, 17311606, 19131564, 17311606, 16401702, 15561689, 15561685, 15431681, 15861586, 17161614, 19151566, 51889340, 19151566, 19711561, 19151566, 18201536, 19151566, 51889340, 17191741, 17151748, 17191741, 17151748, 17251748, 17151748, 17251748, 17671741, 17251748, 17671741, 18001757, 17671741, 18001757, 17671741, 18001757, 18021751, 18011741, 18211722, 18011741, 20321731, 20391706, 19871684, 20391706, 19871684, 18901710, 18211722, 18901710, 19871684, 18901710, 18211722, 18901710, 18211722, 18011741, 17671741, 18001757, 18021751, 18001757, 17671741, 18011741, 18211722, 18011741, 18211722, 18011741, 20321731, 20391706, 19871684, 20331668, 21141652, 21271622, 21141652, 21271622, 21121576, 21271622, 21121576, 21271622, 21121576, 21271622, 21141652, 21271622, 21121576, 21271622, 21121576, 21271622, 21141652, 20331668, 19871684, 20331668, 19871684, 18901710, 19871684, 20391706, 19871684, 18901710, 18211722, 18011741, 18211722, 18011741, 18021751, 18001757, 18021751, 18001757, 18091793, 18161848, 18841828, 20321731, 18011741, 18021751, 18011741, 18211722, 18011741, 18211722, 18901710, 19871684, 20391706, 19871684, 20331668, 19871684, 18901710, 18211722, 18011741, 18211722, 18901710, 19871684, 18901710, 18211722, 18011741, 20321731, 20391706, 20321731, 20391706, 19871684, 20391706, 19871684, 18901710, 19871684, 20391706, 19871684, 20331668, 19871684, 18901710, 19871684, 20391706, 20321731, 18841828, 18091793, 17671780, 17511801, 17501821, 17741838, 17501821, 16921782, 16721771, 16721768, 16461768, 16411764, 16461768, 16411782, 16361787, 16411782, 16461768, 16501762, 16431761, 16391752, 16531745, 16541744, 16531745, 16391752, 16531745, 16391752, 16531745, 16541744, 16531745, 16561743, 16561741, 16561743, 16561741, 16561738, 16561741, 16561738, 16551739, 16561738, 16631738, 16561738, 16551739, 16561738, 16551739, 16561738, 16561741, 16561743, 16531745, 16541744, 16561744, 16541744, 15931781, 16541744, 16531745, 16531749, 16511757, 16531749, 16701748, 16721745, 16561743, 16421744, 16071745, 16421744, 16071745, 16051750, 16271751, 16251761, 16131766, 16171762, 16021756, 15951753, 15801753, 15951753, 16021756, 15951753, 16051750, 15951753, 15801753, 15651754, 15611749, 15651732, 15891736, 15911744, 15991745, 16001737, 15971732, 15831726, 15651723, 15581717, 16541744, 16561744, 16541744, 15931781, 16541744, 16561744, 16541744, 15581717, 14931717, 15581717, 14931717, 15581717, 15651723, 15581717, 16541744, 16531745, 16541744, 16531745, 16391752, 16531745, 16531749, 16511757, 16531749, 16511757, 16501762, 16461768, 16411782, 16461768, 16721768, 16771756, 16721768, 16701748, 16531749, 16531745, 16541744, 15581717, 15651723, 15831726, 15891736, 15911744, 15831745, 15911744, 15991745, 15911744, 15831745, 15681746, 15831745, 15911744, 15831745, 15611749, 15651754, 15611749, 15651754, 15531757, 15651754, 15531757, 15611749, 15651732, 15651739, 15681746, 15651739, 15651732, 15651723, 15581717, 14931717, 14971722, 15651723, 15581717, 14931717, 14971722, 15651723, 15831726, 15891736, 15831726, 15821723, 15831726, 15971732, 16001737, 15971732, 15941726, 16011730, 16121732, 16011730, 16121732, 16081741, 16071745, 15991745, 15911744, 15831745, 15911744, 15991745, 15911744, 15991745, 16071745, 16081741, 16321746, 16081741, 16001737, 15991745, 15911744, 15891736, 16001737, 15991745, 16001737, 15891736, 16001737, 16081741, 16001737, 15971732, 16001737, 16081741, 16121732, 16001737, 15971732, 15941726, 15831726, 15821723, 15831726, 15891736, 16001737, 16081741, 16121732, 16371735, 16561741, 16561738, 16561741, 16371735, 16121732, 16081741, 16121732, 16081741, 16121732, 16081741, 16321746, 16081741, 16321746, 16081741, 16121732, 16081741, 16321746, 16081741, 16001737, 15891736, 15911744, 15831745, 15611749, 15681746, 15831745, 15611749, 15651754, 15801753, 15651754, 15531757, 15441764, 15531757, 15611749, 15531757, 15651754, 15531757, 15441764, 15431725, 15441764, 15531757, 15441764, 15431725, 15481720, 15431725, 15481720, 15431725, 15431681, 15861586, 17161614, 19151566, 19711561, 19711562, 19711561, 19151566, 19711561, 18201536, 19711561, 18201536, 19151566, 17161614, 15861586, 17161614, 19151566, 19711561, 19151566, 51889340, 19151566, 19711561, 19711562, 19711561, 18201536, 19711561, 19151566, 19131564, 17311606, 19131564, 19711562, 19711561, 19711562, 19131564, 17311606, 16401702, 17311606, 19131564, 17311606, 16401702, 17311606, 19131564, 17311606, 16401702, 16191675, 15041554, 15861586, 16491584, 16851497, 16621388, 14521393, 14431547, 14521393, 12271393, 12321385, 14601225, 12321385, 12271393, 12321385, 14601225, 14611235, 12271393, 13461591, 14071655, 13461591, 10351609, 10111496]]\n",
      "Mutating...\n"
     ]
    }
   ],
   "source": [
    "main(10,4,9791429,10111496,links,nodes,map_data,0.5)\n",
    "#9791429,10111496"
   ]
  },
  {
   "cell_type": "code",
   "execution_count": null,
   "metadata": {},
   "outputs": [],
   "source": [
    "#initialise(0.4,4)"
   ]
  },
  {
   "cell_type": "code",
   "execution_count": null,
   "metadata": {},
   "outputs": [],
   "source": [
    "#I need to \"write\" down the map....\n",
    "#route = np.zeros(1,dtype=int)\n",
    "#route"
   ]
  },
  {
   "cell_type": "code",
   "execution_count": null,
   "metadata": {},
   "outputs": [],
   "source": [
    "#distance_array[-1]"
   ]
  },
  {
   "cell_type": "code",
   "execution_count": null,
   "metadata": {},
   "outputs": [],
   "source": [
    "#distance_array"
   ]
  },
  {
   "cell_type": "code",
   "execution_count": null,
   "metadata": {},
   "outputs": [],
   "source": [
    "#map_data"
   ]
  },
  {
   "cell_type": "code",
   "execution_count": null,
   "metadata": {},
   "outputs": [],
   "source": [
    "#map_data.iloc[1][2]"
   ]
  },
  {
   "cell_type": "code",
   "execution_count": null,
   "metadata": {},
   "outputs": [],
   "source": [
    "#x[0]"
   ]
  },
  {
   "cell_type": "code",
   "execution_count": null,
   "metadata": {},
   "outputs": [],
   "source": [
    "#fitness(x,map_data)"
   ]
  },
  {
   "cell_type": "code",
   "execution_count": null,
   "metadata": {},
   "outputs": [],
   "source": [
    "#len(x)"
   ]
  },
  {
   "cell_type": "code",
   "execution_count": null,
   "metadata": {},
   "outputs": [],
   "source": [
    "#i"
   ]
  },
  {
   "cell_type": "code",
   "execution_count": 120,
   "metadata": {},
   "outputs": [
    {
     "data": {
      "text/plain": [
       "0.3979005944650895"
      ]
     },
     "execution_count": 120,
     "metadata": {},
     "output_type": "execute_result"
    }
   ],
   "source": [
    "random.random()"
   ]
  },
  {
   "cell_type": "code",
   "execution_count": null,
   "metadata": {},
   "outputs": [],
   "source": []
  }
 ],
 "metadata": {
  "kernelspec": {
   "display_name": "Python 3",
   "language": "python",
   "name": "python3"
  },
  "language_info": {
   "codemirror_mode": {
    "name": "ipython",
    "version": 3
   },
   "file_extension": ".py",
   "mimetype": "text/x-python",
   "name": "python",
   "nbconvert_exporter": "python",
   "pygments_lexer": "ipython3",
   "version": "3.7.5"
  }
 },
 "nbformat": 4,
 "nbformat_minor": 4
}
